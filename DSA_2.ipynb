{
 "cells": [
  {
   "cell_type": "markdown",
   "id": "7f9fb570-ed01-48be-8297-07f6b6838f8f",
   "metadata": {},
   "source": [
    "# Tupple"
   ]
  },
  {
   "cell_type": "code",
   "execution_count": 44,
   "id": "f744ee02-106f-48b3-8795-67dc53bebb12",
   "metadata": {},
   "outputs": [],
   "source": [
    "# How to create tuple "
   ]
  },
  {
   "cell_type": "code",
   "execution_count": 45,
   "id": "98f75680-9a56-41e9-a3a8-3822976a10cb",
   "metadata": {},
   "outputs": [
    {
     "name": "stdout",
     "output_type": "stream",
     "text": [
      "('a', 'b', 'c', 'd')\n"
     ]
    }
   ],
   "source": [
    "newTuple=('a','b','c','d')\n",
    "print(newTuple)"
   ]
  },
  {
   "cell_type": "code",
   "execution_count": 46,
   "id": "52087512-97c1-49a8-b85c-f3e592bfc9ec",
   "metadata": {},
   "outputs": [
    {
     "name": "stdout",
     "output_type": "stream",
     "text": [
      "('a', 'b', 'c', 'd')\n"
     ]
    }
   ],
   "source": [
    "newTuple1=tuple('abcd')\n",
    "print(newTuple1)"
   ]
  },
  {
   "cell_type": "markdown",
   "id": "f7b99968-c297-409b-8cc5-412657875b78",
   "metadata": {},
   "source": [
    "# Tuples in memory / Accessing Tuple Elements"
   ]
  },
  {
   "cell_type": "code",
   "execution_count": 47,
   "id": "dc936142-4e4b-4065-a080-8ce58034d957",
   "metadata": {},
   "outputs": [
    {
     "name": "stdout",
     "output_type": "stream",
     "text": [
      "b\n"
     ]
    }
   ],
   "source": [
    "print(newTuple[1])"
   ]
  },
  {
   "cell_type": "code",
   "execution_count": 48,
   "id": "4cd56cd8-1528-4e73-b3e7-f593136acf5e",
   "metadata": {},
   "outputs": [
    {
     "name": "stdout",
     "output_type": "stream",
     "text": [
      "d\n"
     ]
    }
   ],
   "source": [
    "print(newTuple[-1])"
   ]
  },
  {
   "cell_type": "code",
   "execution_count": 49,
   "id": "eaab4cde-3a7e-49e1-940f-869ac3d09056",
   "metadata": {},
   "outputs": [
    {
     "name": "stdout",
     "output_type": "stream",
     "text": [
      "('b', 'c')\n"
     ]
    }
   ],
   "source": [
    "print(newTuple[1:3])"
   ]
  },
  {
   "cell_type": "code",
   "execution_count": 50,
   "id": "d1e37d2f-6374-45f6-a97a-1f8f5bdb0340",
   "metadata": {},
   "outputs": [
    {
     "ename": "TypeError",
     "evalue": "'tuple' object does not support item assignment",
     "output_type": "error",
     "traceback": [
      "\u001b[1;31m---------------------------------------------------------------------------\u001b[0m",
      "\u001b[1;31mTypeError\u001b[0m                                 Traceback (most recent call last)",
      "Cell \u001b[1;32mIn[50], line 1\u001b[0m\n\u001b[1;32m----> 1\u001b[0m newTuple[\u001b[38;5;241m0\u001b[39m]\u001b[38;5;241m=\u001b[39m\u001b[38;5;124m'\u001b[39m\u001b[38;5;124md\u001b[39m\u001b[38;5;124m'\u001b[39m\n",
      "\u001b[1;31mTypeError\u001b[0m: 'tuple' object does not support item assignment"
     ]
    }
   ],
   "source": [
    "newTuple[0]='d'  # tuple is immutable "
   ]
  },
  {
   "cell_type": "markdown",
   "id": "fb5895df-d9fa-4afb-bdf4-c72f54b559b3",
   "metadata": {},
   "source": [
    "# Traversing Tuple "
   ]
  },
  {
   "cell_type": "code",
   "execution_count": 51,
   "id": "9659700a-78ec-404b-bc5f-bcfe67753b51",
   "metadata": {},
   "outputs": [
    {
     "name": "stdout",
     "output_type": "stream",
     "text": [
      "a b c d e "
     ]
    }
   ],
   "source": [
    "newTuple=('a','b','c','d','e')\n",
    "for i in range(len(newTuple)):\n",
    "    print(newTuple[i], end=\" \")"
   ]
  },
  {
   "cell_type": "markdown",
   "id": "23780f04-f70a-4082-958a-f9c62a88a936",
   "metadata": {},
   "source": [
    "# searchiing for an element in Tuple "
   ]
  },
  {
   "cell_type": "code",
   "execution_count": 52,
   "id": "f1c342e1-f5c4-4615-9e61-7ffd4e28b369",
   "metadata": {},
   "outputs": [
    {
     "name": "stdout",
     "output_type": "stream",
     "text": [
      "True\n"
     ]
    }
   ],
   "source": [
    "newTuple=('a','b','c','d','e')\n",
    "print('a' in newTuple)"
   ]
  },
  {
   "cell_type": "code",
   "execution_count": 53,
   "id": "1714a60c-9670-4f90-af7f-474c2023a530",
   "metadata": {},
   "outputs": [
    {
     "name": "stdout",
     "output_type": "stream",
     "text": [
      "False\n"
     ]
    }
   ],
   "source": [
    "print('f' in newTuple) # time complexity is O(N) beacuse it compare to all elements "
   ]
  },
  {
   "cell_type": "code",
   "execution_count": 54,
   "id": "3d359e09-ab91-497a-9443-942d31b53b61",
   "metadata": {},
   "outputs": [
    {
     "name": "stdout",
     "output_type": "stream",
     "text": [
      "2\n"
     ]
    }
   ],
   "source": [
    "print(newTuple.index('c'))"
   ]
  },
  {
   "cell_type": "code",
   "execution_count": 55,
   "id": "63365d6b-08ba-422a-85bf-cd4f25bea4bd",
   "metadata": {},
   "outputs": [
    {
     "ename": "ValueError",
     "evalue": "tuple.index(x): x not in tuple",
     "output_type": "error",
     "traceback": [
      "\u001b[1;31m---------------------------------------------------------------------------\u001b[0m",
      "\u001b[1;31mValueError\u001b[0m                                Traceback (most recent call last)",
      "Cell \u001b[1;32mIn[55], line 1\u001b[0m\n\u001b[1;32m----> 1\u001b[0m \u001b[38;5;28mprint\u001b[39m(newTuple\u001b[38;5;241m.\u001b[39mindex(\u001b[38;5;124m'\u001b[39m\u001b[38;5;124mf\u001b[39m\u001b[38;5;124m'\u001b[39m))\n",
      "\u001b[1;31mValueError\u001b[0m: tuple.index(x): x not in tuple"
     ]
    }
   ],
   "source": [
    "print(newTuple.index('f'))"
   ]
  },
  {
   "cell_type": "code",
   "execution_count": 56,
   "id": "65267ed0-7d6d-4d82-b602-971831ab3aec",
   "metadata": {},
   "outputs": [
    {
     "name": "stdout",
     "output_type": "stream",
     "text": [
      "0\n"
     ]
    }
   ],
   "source": [
    "new_tuple=('a','b','c','d','e')\n",
    "def searchTuple(tuple,element):\n",
    "    for i in range(0,len(tuple)):\n",
    "        if tuple[i]==element:\n",
    "            return i \n",
    "    return 'element does not exist'\n",
    "print(searchTuple(new_tuple,'a'))"
   ]
  },
  {
   "cell_type": "markdown",
   "id": "2b41faba-01db-4da8-9278-1f26a24a3837",
   "metadata": {},
   "source": [
    "# Tuple operation/ function"
   ]
  },
  {
   "cell_type": "code",
   "execution_count": 57,
   "id": "dd6f25f2-56af-4082-980b-b93acbce7748",
   "metadata": {},
   "outputs": [
    {
     "name": "stdout",
     "output_type": "stream",
     "text": [
      "(1, 4, 3, 2, 5, 1, 4, 3, 2, 5)\n"
     ]
    }
   ],
   "source": [
    "myTuple=(1,4,3,2,5)\n",
    "myTuple1=(1,2,6,9,8,7)\n",
    "print(myTuple+myTuple)\n"
   ]
  },
  {
   "cell_type": "code",
   "execution_count": 58,
   "id": "bf3966b0-c589-4204-87d6-a8d24784f978",
   "metadata": {},
   "outputs": [
    {
     "name": "stdout",
     "output_type": "stream",
     "text": [
      "(1, 4, 3, 2, 5, 1, 4, 3, 2, 5, 1, 4, 3, 2, 5, 1, 4, 3, 2, 5)\n"
     ]
    }
   ],
   "source": [
    "print(myTuple*4)   # 4 times repition of each elements"
   ]
  },
  {
   "cell_type": "code",
   "execution_count": 59,
   "id": "a2442a35-50bb-4191-a036-e9cbb95336be",
   "metadata": {},
   "outputs": [
    {
     "name": "stdout",
     "output_type": "stream",
     "text": [
      "True\n"
     ]
    }
   ],
   "source": [
    "print( 5 in myTuple)"
   ]
  },
  {
   "cell_type": "code",
   "execution_count": 60,
   "id": "a1ead8b9-0970-4e54-8741-efc5879e6445",
   "metadata": {},
   "outputs": [
    {
     "name": "stdout",
     "output_type": "stream",
     "text": [
      "1\n"
     ]
    }
   ],
   "source": [
    "print(myTuple.count(2))"
   ]
  },
  {
   "cell_type": "code",
   "execution_count": 61,
   "id": "3d49c3d3-9566-44d5-8a0e-ca265a197dfa",
   "metadata": {},
   "outputs": [
    {
     "name": "stdout",
     "output_type": "stream",
     "text": [
      "1\n"
     ]
    }
   ],
   "source": [
    "print(myTuple.index(4))"
   ]
  },
  {
   "cell_type": "code",
   "execution_count": 62,
   "id": "c1fd0e2a-b209-4465-b75d-f793b8db8fa3",
   "metadata": {},
   "outputs": [
    {
     "name": "stdout",
     "output_type": "stream",
     "text": [
      "5\n"
     ]
    }
   ],
   "source": [
    "print(len(myTuple))"
   ]
  },
  {
   "cell_type": "code",
   "execution_count": 63,
   "id": "a6161894-bb4a-4f13-b925-f0b9d07dc0e5",
   "metadata": {},
   "outputs": [
    {
     "name": "stdout",
     "output_type": "stream",
     "text": [
      "5\n"
     ]
    }
   ],
   "source": [
    "print(max(myTuple))"
   ]
  },
  {
   "cell_type": "markdown",
   "id": "57892513-88fe-4dc6-9648-5a652b2dce1a",
   "metadata": {},
   "source": [
    "# By using tuple function , list can be convert into tuple "
   ]
  },
  {
   "cell_type": "code",
   "execution_count": 64,
   "id": "aa2a9d08-de84-477c-8d82-39e5e0d4b804",
   "metadata": {},
   "outputs": [
    {
     "name": "stdout",
     "output_type": "stream",
     "text": [
      "(1, 2, 3, 4)\n"
     ]
    }
   ],
   "source": [
    "print(tuple([1,2,3,4]))"
   ]
  },
  {
   "cell_type": "markdown",
   "id": "bd248247-bac7-412f-8535-723ac8e1f988",
   "metadata": {},
   "source": [
    "# Difference between tuple and list "
   ]
  },
  {
   "cell_type": "code",
   "execution_count": 65,
   "id": "9445717b-8606-43b1-b750-79c78afdfef0",
   "metadata": {},
   "outputs": [
    {
     "name": "stdout",
     "output_type": "stream",
     "text": [
      "(1, 4, 3, 2, 5)\n"
     ]
    }
   ],
   "source": [
    "print(myTuple)"
   ]
  },
  {
   "cell_type": "code",
   "execution_count": 66,
   "id": "1f327b4e-f832-4667-946d-ffecd429d29e",
   "metadata": {},
   "outputs": [
    {
     "ename": "TypeError",
     "evalue": "'tuple' object does not support item assignment",
     "output_type": "error",
     "traceback": [
      "\u001b[1;31m---------------------------------------------------------------------------\u001b[0m",
      "\u001b[1;31mTypeError\u001b[0m                                 Traceback (most recent call last)",
      "Cell \u001b[1;32mIn[66], line 1\u001b[0m\n\u001b[1;32m----> 1\u001b[0m myTuple[\u001b[38;5;241m1\u001b[39m]\u001b[38;5;241m=\u001b[39m\u001b[38;5;241m3\u001b[39m\n",
      "\u001b[1;31mTypeError\u001b[0m: 'tuple' object does not support item assignment"
     ]
    }
   ],
   "source": [
    "myTuple[1]=3 # tuple can not be changed "
   ]
  },
  {
   "cell_type": "code",
   "execution_count": 67,
   "id": "c3bda556-5e9e-44a7-99a3-58d2c8578734",
   "metadata": {},
   "outputs": [
    {
     "ename": "TypeError",
     "evalue": "'tuple' object doesn't support item deletion",
     "output_type": "error",
     "traceback": [
      "\u001b[1;31m---------------------------------------------------------------------------\u001b[0m",
      "\u001b[1;31mTypeError\u001b[0m                                 Traceback (most recent call last)",
      "Cell \u001b[1;32mIn[67], line 1\u001b[0m\n\u001b[1;32m----> 1\u001b[0m \u001b[38;5;28;01mdel\u001b[39;00m myTuple[\u001b[38;5;241m0\u001b[39m]\n\u001b[0;32m      2\u001b[0m \u001b[38;5;28mprint\u001b[39m(myTuple)\n",
      "\u001b[1;31mTypeError\u001b[0m: 'tuple' object doesn't support item deletion"
     ]
    }
   ],
   "source": [
    "del myTuple[0]\n",
    "print(myTuple)"
   ]
  },
  {
   "cell_type": "code",
   "execution_count": 68,
   "id": "c461f87d-59f6-4bed-850e-5e3aacbe5729",
   "metadata": {},
   "outputs": [
    {
     "name": "stdout",
     "output_type": "stream",
     "text": [
      "[(1, 2), (9, 0), (3, 4)]\n",
      "([1, 2], [3, 4], [5, 6])\n"
     ]
    }
   ],
   "source": [
    "list1=[(1,2),(9,0),(3,4)]\n",
    "tuple1=([1,2],[3,4],[5,6])\n",
    "print(list1)\n",
    "print(tuple1)"
   ]
  },
  {
   "cell_type": "code",
   "execution_count": 69,
   "id": "9bfbcc2a-6131-4fba-8b35-c900c673de9d",
   "metadata": {},
   "outputs": [
    {
     "name": "stdout",
     "output_type": "stream",
     "text": [
      "((1, 2), (3, 4), (5, 6))\n"
     ]
    }
   ],
   "source": [
    "tuple1=((1,2),(3,4),(5,6))\n",
    "print(tuple1)"
   ]
  },
  {
   "cell_type": "code",
   "execution_count": 70,
   "id": "3ad1baf6-0e21-499f-910b-eb18c9b3ca0b",
   "metadata": {},
   "outputs": [
    {
     "name": "stdout",
     "output_type": "stream",
     "text": [
      "0\n"
     ]
    }
   ],
   "source": [
    "init_tuple = ()\n",
    "print (init_tuple.__len__())"
   ]
  },
  {
   "cell_type": "code",
   "execution_count": 71,
   "id": "d07cb11e-b3e6-4a83-82db-a69063244740",
   "metadata": {},
   "outputs": [
    {
     "name": "stdout",
     "output_type": "stream",
     "text": [
      "True\n"
     ]
    }
   ],
   "source": [
    "init_tuple_a = 'a', 'b'\n",
    "init_tuple_b = ('a', 'b')\n",
    " \n",
    "print(init_tuple_a == init_tuple_b)"
   ]
  },
  {
   "cell_type": "code",
   "execution_count": 72,
   "id": "419948f1-eb5b-47de-9d5f-dd15b2cd5869",
   "metadata": {},
   "outputs": [
    {
     "name": "stdout",
     "output_type": "stream",
     "text": [
      "10\n"
     ]
    },
    {
     "data": {
      "text/plain": [
       "[None]"
      ]
     },
     "execution_count": 72,
     "metadata": {},
     "output_type": "execute_result"
    }
   ],
   "source": [
    "init_tuple_a = 1, 2\n",
    "init_tuple_b = (3, 4)\n",
    " \n",
    "[print(sum(x)) for x in [init_tuple_a + init_tuple_b]]"
   ]
  },
  {
   "cell_type": "code",
   "execution_count": 73,
   "id": "7e4d2a77-a56d-4938-aa3f-99b6c9af023b",
   "metadata": {},
   "outputs": [
    {
     "name": "stdout",
     "output_type": "stream",
     "text": [
      "6\n"
     ]
    }
   ],
   "source": [
    "init_tuple = [(0, 1), (1, 2), (2, 3)]\n",
    " \n",
    "result = sum(n for _, n in init_tuple)\n",
    " \n",
    "print(result)"
   ]
  },
  {
   "cell_type": "code",
   "execution_count": 74,
   "id": "39aab218-140d-4fe5-a92a-146838bfc56f",
   "metadata": {},
   "outputs": [
    {
     "name": "stdout",
     "output_type": "stream",
     "text": [
      "(10, 24)\n"
     ]
    }
   ],
   "source": [
    "input_tuple = (1, 2, 3, 4)\n",
    "def sum_product(input_tuple):\n",
    "    sum=0\n",
    "    product=1\n",
    "    for i in range(0,len(input_tuple)):\n",
    "        product=product* input_tuple[i]\n",
    "        sum=sum+input_tuple[i]\n",
    "    return sum,product\n",
    "print(sum_product(input_tuple))"
   ]
  },
  {
   "cell_type": "code",
   "execution_count": 75,
   "id": "7de5c543-7b20-4384-aee1-8454447deee7",
   "metadata": {},
   "outputs": [
    {
     "name": "stdout",
     "output_type": "stream",
     "text": [
      "(5, 7, 9)\n"
     ]
    }
   ],
   "source": [
    "tuple1 = (1, 2, 3)\n",
    "tuple2 = (4, 5, 6)\n",
    "def tuple_elementwise_sum(tuple1, tuple2):\n",
    "    out_list=[]\n",
    "    for i in range(len(tuple1)):\n",
    "        out_list.append(tuple1[i]+tuple2[i])\n",
    "    #print(out_list)\n",
    "    return tuple(out_list)\n",
    "print(tuple_elementwise_sum(tuple1,tuple2))"
   ]
  },
  {
   "cell_type": "code",
   "execution_count": 76,
   "id": "e89064a1-9fa5-4941-955f-e93d5d8603cf",
   "metadata": {},
   "outputs": [
    {
     "name": "stdout",
     "output_type": "stream",
     "text": [
      "(1, 2, 3, 4)\n"
     ]
    }
   ],
   "source": [
    "input = (2, 3, 4)\n",
    "value =1\n",
    "def insert_value_front(input_tuple, value_to_insert):\n",
    "    tuple_list = list(input_tuple)\n",
    "    tuple_list.insert(0,value_to_insert)\n",
    "    return tuple(tuple_list)\n",
    "print(insert_value_front(input , value))"
   ]
  },
  {
   "cell_type": "code",
   "execution_count": 77,
   "id": "fcabb53b-cff5-44ab-b228-53504a3efbdf",
   "metadata": {},
   "outputs": [],
   "source": [
    "def insert_value_at_beginning(input_tuple, value_to_insert):\n",
    "    return (value_to_insert,) + input_tuple"
   ]
  },
  {
   "cell_type": "code",
   "execution_count": 78,
   "id": "c241777b-185b-4733-bac1-73b26b3c987d",
   "metadata": {},
   "outputs": [
    {
     "name": "stdout",
     "output_type": "stream",
     "text": [
      "Hello World from Python\n"
     ]
    }
   ],
   "source": [
    "input_tuple = ('Hello', 'World', 'from', 'Python')\n",
    "result= \" \".join(input_tuple)\n",
    "print(result)"
   ]
  },
  {
   "cell_type": "code",
   "execution_count": 79,
   "id": "e5b349da-4ed0-4b9c-82c7-771b850b0f8b",
   "metadata": {},
   "outputs": [
    {
     "name": "stdout",
     "output_type": "stream",
     "text": [
      "Hello World from Python\n"
     ]
    }
   ],
   "source": [
    "# Write a function that takes a tuple of strings and concatenates them,\n",
    "# separating each string with a space\n",
    "input_tuple = ('Hello', 'World', 'from', 'Python')\n",
    "def concatenate_strings(input_tuple):\n",
    "    result= \" \".join(input_tuple)\n",
    "    return result\n",
    "print(concatenate_strings(input_tuple))"
   ]
  },
  {
   "cell_type": "code",
   "execution_count": 80,
   "id": "75521cce-5983-4927-8acc-36eab473f8b4",
   "metadata": {},
   "outputs": [
    {
     "name": "stdout",
     "output_type": "stream",
     "text": [
      "(1, 5, 9)\n"
     ]
    }
   ],
   "source": [
    "#Create a function that takes a tuple of tuples and returns a tuple \n",
    "#containing the diagonal elements of the input.\n",
    "\n",
    "#Example\n",
    "import numpy as np \n",
    "input_tuple = (\n",
    "    (1, 2, 3),\n",
    "    (4, 5, 6),\n",
    "    (7, 8, 9)\n",
    ")\n",
    "m_array= np.array(input_tuple)\n",
    "results=tuple(m_array.diagonal())\n",
    "print(results)"
   ]
  },
  {
   "cell_type": "code",
   "execution_count": 81,
   "id": "1a5952f7-f48f-4b46-b8c2-ebba4bc04115",
   "metadata": {},
   "outputs": [
    {
     "name": "stdout",
     "output_type": "stream",
     "text": [
      "(1, 5, 9)\n"
     ]
    }
   ],
   "source": [
    "def get_diagonal(tup):\n",
    "    return tuple(tup[i][i] for i in range(len(tup)))\n",
    "\n",
    "# Example input\n",
    "input_tuple = (\n",
    "    (1, 2, 3),\n",
    "    (4, 5, 6),\n",
    "    (7, 8, 9)\n",
    ")\n",
    "\n",
    "print(get_diagonal(input_tuple))\n"
   ]
  },
  {
   "cell_type": "code",
   "execution_count": 82,
   "id": "b4398222-a10b-4799-9998-3feefacaf4d5",
   "metadata": {},
   "outputs": [],
   "source": [
    "# OR "
   ]
  },
  {
   "cell_type": "code",
   "execution_count": 83,
   "id": "f8fb5c20-2895-4b03-9c63-87a32585df59",
   "metadata": {},
   "outputs": [
    {
     "name": "stdout",
     "output_type": "stream",
     "text": [
      "(1, 5, 9)\n"
     ]
    }
   ],
   "source": [
    "import numpy as np \n",
    "def get_diagonal(tup):\n",
    "    input_tuple = (\n",
    "        (1, 2, 3),\n",
    "        (4, 5, 6),\n",
    "        (7, 8, 9)\n",
    "    )\n",
    "    m_array= np.array(input_tuple)\n",
    "    results=tuple(m_array.diagonal())\n",
    "    return results\n",
    "print(get_diagonal(input_tuple))"
   ]
  },
  {
   "cell_type": "code",
   "execution_count": 84,
   "id": "fb818348-d00e-483a-b389-5a6d69bf4275",
   "metadata": {},
   "outputs": [
    {
     "ename": "NameError",
     "evalue": "name 'tuple12' is not defined",
     "output_type": "error",
     "traceback": [
      "\u001b[1;31m---------------------------------------------------------------------------\u001b[0m",
      "\u001b[1;31mNameError\u001b[0m                                 Traceback (most recent call last)",
      "Cell \u001b[1;32mIn[84], line 7\u001b[0m\n\u001b[0;32m      5\u001b[0m         \u001b[38;5;28;01mif\u001b[39;00m (tuple1[i]\u001b[38;5;241m==\u001b[39mtuple2[i]):\n\u001b[0;32m      6\u001b[0m             \u001b[38;5;28;01mreturn\u001b[39;00m tuple2[i]\n\u001b[1;32m----> 7\u001b[0m \u001b[38;5;28mprint\u001b[39m(common_elements(tuple12,tuple22))\n",
      "\u001b[1;31mNameError\u001b[0m: name 'tuple12' is not defined"
     ]
    }
   ],
   "source": [
    "tuple1 = (1, 2, 3, 4, 5)\n",
    "tuple2 = (4, 5, 6, 7, 8)\n",
    "def common_elements(tuple1, tuple2):\n",
    "    for i in range(len(tuple1)):\n",
    "        if (tuple1[i]==tuple2[i]):\n",
    "            return tuple2[i]\n",
    "print(common_elements(tuple12,tuple22))"
   ]
  },
  {
   "cell_type": "code",
   "execution_count": 85,
   "id": "50033f33-1199-40b6-b7e6-40af88ebbdc0",
   "metadata": {},
   "outputs": [
    {
     "data": {
      "text/plain": [
       "{1, 2, 3, 4, 5}"
      ]
     },
     "execution_count": 85,
     "metadata": {},
     "output_type": "execute_result"
    }
   ],
   "source": [
    "set(tuple1)"
   ]
  },
  {
   "cell_type": "code",
   "execution_count": 86,
   "id": "93c1b546-5963-4c46-a7a7-7ecdd9a82686",
   "metadata": {},
   "outputs": [
    {
     "data": {
      "text/plain": [
       "(4, 5)"
      ]
     },
     "execution_count": 86,
     "metadata": {},
     "output_type": "execute_result"
    }
   ],
   "source": [
    "tuple(set(tuple1)&set(tuple2))"
   ]
  },
  {
   "cell_type": "code",
   "execution_count": 87,
   "id": "20d08b57-22f8-41e9-86a9-b04bea8d82a0",
   "metadata": {},
   "outputs": [
    {
     "name": "stdout",
     "output_type": "stream",
     "text": [
      "(4, 5)\n"
     ]
    }
   ],
   "source": [
    "tuple1 = (1, 2, 3, 4, 5)\n",
    "tuple2 = (4, 5, 6, 7, 8)\n",
    "\n",
    "common = []\n",
    "for i in tuple1:\n",
    "    if i in tuple2:  # Checking each element in tuple2\n",
    "        common.append(i)\n",
    "\n",
    "print(tuple(common))\n"
   ]
  },
  {
   "cell_type": "markdown",
   "id": "f7b97bf4-59ee-41f8-855a-f04901143131",
   "metadata": {},
   "source": [
    "# OOPs "
   ]
  },
  {
   "cell_type": "code",
   "execution_count": 88,
   "id": "ce6d81c1-38db-4c3e-9639-eec007140194",
   "metadata": {},
   "outputs": [
    {
     "name": "stdout",
     "output_type": "stream",
     "text": [
      "Rs. 1000 was debited\n",
      "total balance= 9000\n",
      "Rs. 500 was credited\n",
      "total balance= 9500\n"
     ]
    }
   ],
   "source": [
    "class Account:\n",
    "    def __init__(self,bal, acc):\n",
    "        self.balance=bal\n",
    "        self.account_no=acc\n",
    "    def debit(self,amount):\n",
    "        self.balance-=amount\n",
    "        print(\"Rs.\",amount,\"was debited\")\n",
    "        print(\"total balance=\",self.get_balance())\n",
    "\n",
    "    def credit(self,amount):\n",
    "        self.balance+=amount\n",
    "        print(\"Rs.\",amount,\"was credited\")\n",
    "        print(\"total balance=\",self.get_balance())\n",
    "\n",
    "    def get_balance(self):\n",
    "        return self.balance\n",
    "\n",
    "acc1=Account(10000,12345)\n",
    "acc1.debit(1000)\n",
    "acc1.credit(500)\n"
   ]
  },
  {
   "cell_type": "code",
   "execution_count": 89,
   "id": "3e755a5a-2561-4fe4-afff-6161c456ad63",
   "metadata": {},
   "outputs": [
    {
     "name": "stdout",
     "output_type": "stream",
     "text": [
      "98.0%\n",
      "94.0%\n"
     ]
    }
   ],
   "source": [
    "# property\n",
    "class Student:\n",
    "    def __init__(self,phy,chem,math):\n",
    "        self.phy=phy\n",
    "        self.chem=chem\n",
    "        self.math=math\n",
    "    @property\n",
    "    def percentage(self):\n",
    "        return str((self.phy+self.chem+self.math)/3)+\"%\"\n",
    "\n",
    "stu1=Student(98,97,99)\n",
    "print(stu1.percentage)\n",
    "\n",
    "stu1.phy=86\n",
    "print(stu1.percentage)"
   ]
  },
  {
   "cell_type": "code",
   "execution_count": 90,
   "id": "4914a842-34cd-4980-a9ad-81f5d8c0e3f8",
   "metadata": {},
   "outputs": [
    {
     "name": "stdout",
     "output_type": "stream",
     "text": [
      "Red\n",
      "16\n"
     ]
    }
   ],
   "source": [
    "class StarCookie:\n",
    "    def __init__(self,color,weight):\n",
    "        self.color=color\n",
    "        self.weight=weight\n",
    "\n",
    "star_cookie1=StarCookie(\"Red\",16)\n",
    "print(star_cookie1.color)\n",
    "print(star_cookie1.weight)"
   ]
  },
  {
   "cell_type": "code",
   "execution_count": 91,
   "id": "0b341655-7e5c-4c06-90d6-b6b8f6c7a252",
   "metadata": {},
   "outputs": [
    {
     "name": "stdout",
     "output_type": "stream",
     "text": [
      "Red\n",
      "16\n",
      "0.2\n",
      "0.2\n",
      "0.2\n"
     ]
    }
   ],
   "source": [
    "class StarCookie:\n",
    "    milk=0.1\n",
    "    def __init__(self,color,weight):\n",
    "        self.color=color\n",
    "        self.weight=weight\n",
    "\n",
    "star_cookie1=StarCookie(\"Red\",16)\n",
    "star_cookie2=StarCookie(\"Blue\",15)\n",
    "StarCookie.milk=0.2\n",
    "print(star_cookie1.color)\n",
    "print(star_cookie1.weight)\n",
    "print(star_cookie1.milk)\n",
    "print(star_cookie2.milk)\n",
    "print(StarCookie.milk)"
   ]
  },
  {
   "cell_type": "code",
   "execution_count": 92,
   "id": "53aff111-a990-4ece-8dc4-0c2dae1e6eaf",
   "metadata": {},
   "outputs": [
    {
     "name": "stdout",
     "output_type": "stream",
     "text": [
      "Red\n",
      "16\n",
      "0.1\n",
      "0.2\n",
      "0.1\n"
     ]
    }
   ],
   "source": [
    "class StarCookie:\n",
    "    milk=0.1\n",
    "    def __init__(self,color,weight):\n",
    "        self.color=color\n",
    "        self.weight=weight\n",
    "\n",
    "star_cookie1=StarCookie(\"Red\",16)\n",
    "star_cookie2=StarCookie(\"Blue\",15)\n",
    "star_cookie2.milk=0.2\n",
    "print(star_cookie1.color)\n",
    "print(star_cookie1.weight)\n",
    "print(star_cookie1.milk)\n",
    "print(star_cookie2.milk)\n",
    "print(StarCookie.milk)"
   ]
  },
  {
   "cell_type": "code",
   "execution_count": 93,
   "id": "ce778558-26b4-4a67-b74c-872645f95cbd",
   "metadata": {},
   "outputs": [
    {
     "name": "stdout",
     "output_type": "stream",
     "text": [
      "{'color': 'Red', 'weight': 16}\n",
      "{'color': 'Blue', 'weight': 15}\n",
      "{'__module__': '__main__', 'milk': 0.1, '__init__': <function StarCookie.__init__ at 0x0000026781583240>, '__dict__': <attribute '__dict__' of 'StarCookie' objects>, '__weakref__': <attribute '__weakref__' of 'StarCookie' objects>, '__doc__': None}\n"
     ]
    }
   ],
   "source": [
    "class StarCookie:\n",
    "    milk=0.1\n",
    "    def __init__(self,color,weight):\n",
    "        self.color=color\n",
    "        self.weight=weight\n",
    "\n",
    "star_cookie1=StarCookie(\"Red\",16)\n",
    "star_cookie2=StarCookie(\"Blue\",15)\n",
    "#star_cookie1.milk=0.2\n",
    "print(star_cookie1.__dict__)\n",
    "print(star_cookie2.__dict__)\n",
    "print(StarCookie.__dict__)         # convert into dictionary "
   ]
  },
  {
   "cell_type": "code",
   "execution_count": null,
   "id": "42b47e1f-12a2-47f3-836f-302421a64ccd",
   "metadata": {},
   "outputs": [],
   "source": []
  },
  {
   "cell_type": "code",
   "execution_count": 94,
   "id": "2dcb06e0-29e4-40b9-8c75-123b0136e24a",
   "metadata": {},
   "outputs": [
    {
     "name": "stdout",
     "output_type": "stream",
     "text": [
      "User 1 subscribers:0\n",
      "User 1 subscriptions:1\n",
      "User 2 subscribers:1\n",
      "User 2 subscriptions:0\n"
     ]
    }
   ],
   "source": [
    "class Youtube:\n",
    "    def __init__(self, username,subscribers=0,subscriptions=0):\n",
    "        self.username=username\n",
    "        self.subscribers=subscribers\n",
    "        self.subscriptions=subscriptions\n",
    "        \n",
    "    def subscribe(self,user):\n",
    "        user.subscribers+=1\n",
    "        self.subscriptions+=1\n",
    "user1=Youtube(\"Elshad\")\n",
    "user2=Youtube(\"Renad\")\n",
    "user1.subscribe(user2)\n",
    "print(f\"User 1 subscribers:{user1.subscribers}\")\n",
    "print(f\"User 1 subscriptions:{user1.subscriptions}\")\n",
    "print(f\"User 2 subscribers:{user2.subscribers}\")\n",
    "print(f\"User 2 subscriptions:{user2.subscriptions}\")"
   ]
  },
  {
   "cell_type": "code",
   "execution_count": 95,
   "id": "d5715d8e-b330-409d-aa3c-add9e5d930c1",
   "metadata": {},
   "outputs": [
    {
     "name": "stdout",
     "output_type": "stream",
     "text": [
      "User 1 subscribers:1\n",
      "User 1 subscriptions:1\n",
      "User 2 subscribers:1\n",
      "User 2 subscriptions:1\n"
     ]
    }
   ],
   "source": [
    "class Youtube:\n",
    "    def __init__(self, username,subscribers=0,subscriptions=0):\n",
    "        self.username=username\n",
    "        self.subscribers=subscribers\n",
    "        self.subscriptions=subscriptions\n",
    "        \n",
    "    def subscribe(self,user):\n",
    "        user.subscribers+=1\n",
    "        self.subscriptions+=1\n",
    "user1=Youtube(\"Elshad\")\n",
    "user2=Youtube(\"Renad\")\n",
    "user1.subscribe(user2)\n",
    "user2.subscribe(user1)\n",
    "print(f\"User 1 subscribers:{user1.subscribers}\")\n",
    "print(f\"User 1 subscriptions:{user1.subscriptions}\")\n",
    "print(f\"User 2 subscribers:{user2.subscribers}\")\n",
    "print(f\"User 2 subscriptions:{user2.subscriptions}\")"
   ]
  },
  {
   "cell_type": "code",
   "execution_count": 96,
   "id": "09f58766-2503-4bef-b9a2-7666464ea820",
   "metadata": {},
   "outputs": [],
   "source": [
    "# Append method in LinkedList "
   ]
  },
  {
   "cell_type": "code",
   "execution_count": 97,
   "id": "3dad0e97-12b2-4155-93e5-90cadcd52911",
   "metadata": {},
   "outputs": [
    {
     "name": "stdout",
     "output_type": "stream",
     "text": [
      "2\n",
      "10\n",
      "50\n"
     ]
    }
   ],
   "source": [
    "class Node:\n",
    "    def __init__(self, value):\n",
    "        self.value= value\n",
    "        self.next= None\n",
    "class LinkedList:\n",
    "    def __init__(self):\n",
    "        self.head=None\n",
    "        self.tail=None\n",
    "        self.length=0\n",
    "    def append(self, value):\n",
    "        new_node=Node(value)\n",
    "        if self.head is None:\n",
    "            self.head= new_node\n",
    "            self.tail=new_node\n",
    "        else:\n",
    "            self.tail.next=new_node\n",
    "            self.tail=new_node\n",
    "        self.length+=1\n",
    "\n",
    "    def prepend (self, value):\n",
    "        new_node= Node(value)\n",
    "        if self.head is None:\n",
    "            self.head= new_node\n",
    "            self.tail=new_node\n",
    "        else:\n",
    "            new_node.next=self.head\n",
    "            self.head=new_node\n",
    "        self.length+=1\n",
    "    \n",
    "new_linked_list=LinkedList()\n",
    "new_linked_list.append(10)\n",
    "new_linked_list.append(20)\n",
    "print(new_linked_list.length)\n",
    "print(new_linked_list.head.value)\n",
    "new_linked_list.prepend(50)\n",
    "print(new_linked_list.head.value)"
   ]
  },
  {
   "cell_type": "code",
   "execution_count": 98,
   "id": "857ffcaa-4459-407f-b72b-aafc1fec7c5a",
   "metadata": {},
   "outputs": [],
   "source": [
    "# Prepend method --  Insert an Element at the beginning of singly Linked List "
   ]
  },
  {
   "cell_type": "code",
   "execution_count": 99,
   "id": "4d7ced80-0080-4d1f-a221-03bfd2507b93",
   "metadata": {},
   "outputs": [
    {
     "name": "stdout",
     "output_type": "stream",
     "text": [
      "Hello\n",
      "Hello\n",
      "Hello\n",
      "Hello\n",
      "Hello\n"
     ]
    }
   ],
   "source": [
    "for _ in range(5):\n",
    "    print(\"Hello\")"
   ]
  },
  {
   "cell_type": "code",
   "execution_count": 100,
   "id": "d3a3fc1a-a628-47d4-9830-2f69de30a6bc",
   "metadata": {},
   "outputs": [
    {
     "name": "stdout",
     "output_type": "stream",
     "text": [
      "Hello\n",
      "Hello\n",
      "Hello\n",
      "Hello\n",
      "Hello\n"
     ]
    }
   ],
   "source": [
    "for i in range(5):\n",
    "    print(\"Hello\")"
   ]
  },
  {
   "cell_type": "code",
   "execution_count": 3,
   "id": "9aeccc3d-b969-4146-a10b-c579129ad58d",
   "metadata": {},
   "outputs": [],
   "source": [
    "class Node:\n",
    "    def __init__(self, value):\n",
    "        self.value= value\n",
    "        self.next= None\n",
    "class LinkedList:\n",
    "    def __init__(self):\n",
    "        self.head=None\n",
    "        self.tail=None\n",
    "        self.length=0"
   ]
  },
  {
   "cell_type": "code",
   "execution_count": null,
   "id": "70cba5ce-18d6-44e5-b2b9-477caa3eb606",
   "metadata": {},
   "outputs": [],
   "source": []
  },
  {
   "cell_type": "code",
   "execution_count": 4,
   "id": "a8d59546-28b7-4cd3-a3d8-26c91135f67b",
   "metadata": {},
   "outputs": [],
   "source": [
    "# Definition for singly-linked list.\n",
    "class ListNode(object):\n",
    "    def __init__(self, val=0, next=None):\n",
    "        self.val = val\n",
    "        self.next = next\n",
    "class Solution(object):\n",
    "    def mergeTwoLists(self, l1, l2):\n",
    "        \"\"\"\n",
    "        :type list1: Optional[ListNode]\n",
    "        :type list2: Optional[ListNode]\n",
    "        :rtype: Optional[ListNode]\n",
    "        \n",
    "        \n",
    "        \"\"\"\n",
    "        prehead=ListNode(-1)\n",
    "        prev=prehead\n",
    "        while l1 and l2 :\n",
    "            if l1.val<=l2.val:\n",
    "                prev.next=l1\n",
    "                l1=l1.next\n",
    "            else:\n",
    "                prev.next=l2\n",
    "                l2=l2.next\n",
    "            prev=prev.next\n",
    "        prev.next=l1 if l1 is not None else l2\n",
    "        return prehead.next"
   ]
  },
  {
   "cell_type": "code",
   "execution_count": 5,
   "id": "342ebb45-64ba-440f-85b9-db60ae398363",
   "metadata": {},
   "outputs": [],
   "source": [
    "class ListNode(object):\n",
    "    def __init__(self, val=0, next=None):\n",
    "        self.val = val\n",
    "        self.next = next\n",
    "\n",
    "class Solution(object):\n",
    "    def deleteDuplicates(self, head):\n",
    "        while curr:\n",
    "            current.value=current.next.value\n",
    "            current=current.next.next\n",
    "            current.next=None \n",
    "        return delteDuplicate \n",
    "                "
   ]
  },
  {
   "cell_type": "code",
   "execution_count": 6,
   "id": "f6a060a1-1538-4509-8934-9fece4c2d047",
   "metadata": {},
   "outputs": [],
   "source": [
    "class ListNode(object):\n",
    "    def __init__(self, val=0, next=None):\n",
    "        self.val = val\n",
    "        self.next = next\n",
    "\n",
    "class Solution(object):\n",
    "    def removeElements(self, head, val):\n",
    "        current=head\n",
    "        while current and current.next:\n",
    "            if current.val==val:\n",
    "                current.next=current.next\n",
    "            else:\n",
    "                current=current.next\n",
    "        return head "
   ]
  },
  {
   "cell_type": "code",
   "execution_count": null,
   "id": "1c78e0a1-348b-4d4e-8fde-0a4f1beabc13",
   "metadata": {},
   "outputs": [],
   "source": []
  },
  {
   "cell_type": "markdown",
   "id": "02dbb562-5807-4f42-83b5-290e539698c8",
   "metadata": {},
   "source": [
    "### Circular Linkedlist"
   ]
  },
  {
   "cell_type": "code",
   "execution_count": 7,
   "id": "84d27de7-c31b-4906-9fc4-86275dc9e5cf",
   "metadata": {},
   "outputs": [
    {
     "name": "stdout",
     "output_type": "stream",
     "text": [
      "50\n"
     ]
    }
   ],
   "source": [
    "# Circular single linked list with one elements\n",
    "class Node:\n",
    "    def __init__ (self, value):\n",
    "        self.value=value\n",
    "        self.next=None\n",
    "class CSLinkedList:\n",
    "    def __init__ (self,value):\n",
    "        new_node=Node(value)\n",
    "        self.head=new_node\n",
    "        self.tail=new_node\n",
    "        new_node.next=new_node\n",
    "        self.length=1\n",
    "csLinkedlist=CSLinkedList(50)\n",
    "print(csLinkedlist.head.value)"
   ]
  },
  {
   "cell_type": "markdown",
   "id": "f30dd21e-b73a-4318-84d4-58ff932859a0",
   "metadata": {},
   "source": [
    "##### Empty circular single linked list"
   ]
  },
  {
   "cell_type": "code",
   "execution_count": 8,
   "id": "d58dbe72-3002-4f5b-b96c-b529ef8d9c30",
   "metadata": {},
   "outputs": [
    {
     "name": "stdout",
     "output_type": "stream",
     "text": [
      "None\n"
     ]
    }
   ],
   "source": [
    "class CSLinkedList:\n",
    "    def __init__(self):\n",
    "        self.head=None\n",
    "        self.tail=None\n",
    "        self.length=0\n",
    "csLinkedlist=CSLinkedList()\n",
    "print(csLinkedlist.head)"
   ]
  },
  {
   "cell_type": "markdown",
   "id": "401075fc-ef61-4782-ba66-07337bf168fd",
   "metadata": {},
   "source": [
    "###### Append method in CSLL"
   ]
  },
  {
   "cell_type": "code",
   "execution_count": 9,
   "id": "4060cf12-b5b9-420f-90da-61cc596b44c3",
   "metadata": {},
   "outputs": [
    {
     "name": "stdout",
     "output_type": "stream",
     "text": [
      "10\n",
      "20\n"
     ]
    }
   ],
   "source": [
    "class CSLinkedList:\n",
    "    def __init__(self):\n",
    "        self.head=None\n",
    "        self.tail=None\n",
    "        self.length=0\n",
    "    def append (self, value):\n",
    "        new_node=Node(value)\n",
    "        if self.length==0:\n",
    "            self.head=new_node\n",
    "            self.tail=new_node\n",
    "            new_node.next=new_node\n",
    "        else:\n",
    "            self.tail.next=new_node\n",
    "            new_node.next=self.head\n",
    "            self.tail=new_node\n",
    "        self.length+=1\n",
    "csLinkedlist=CSLinkedList()\n",
    "csLinkedlist.append(10)\n",
    "csLinkedlist.append(20)\n",
    "csLinkedlist.append(30)\n",
    "csLinkedlist.append(40)\n",
    "print(csLinkedlist.head.value)\n",
    "print(csLinkedlist.head.next.value)"
   ]
  },
  {
   "cell_type": "markdown",
   "id": "37c52a50-1e38-4539-8e19-b5ab9c540916",
   "metadata": {},
   "source": [
    "##### print CSLL"
   ]
  },
  {
   "cell_type": "code",
   "execution_count": 10,
   "id": "e24c97c6-acec-414a-9c47-a177128c7a0b",
   "metadata": {},
   "outputs": [
    {
     "name": "stdout",
     "output_type": "stream",
     "text": [
      "   10->20->30->40\n"
     ]
    }
   ],
   "source": [
    "class CSLinkedList:\n",
    "    def __init__(self):\n",
    "        self.head=None\n",
    "        self.tail=None\n",
    "        self.length=0\n",
    "    def __str__(self):\n",
    "        temp_node=self.head\n",
    "        result=\"   \"\n",
    "        while temp_node is not None:\n",
    "            result+=str(temp_node.value)\n",
    "            temp_node=temp_node.next\n",
    "            if temp_node==self.head:\n",
    "                break\n",
    "            result+= \"->\"\n",
    "        return result\n",
    "        \n",
    "    def append (self, value):\n",
    "        new_node=Node(value)\n",
    "        if self.length==0:\n",
    "            self.head=new_node\n",
    "            self.tail=new_node\n",
    "            new_node.next=new_node\n",
    "        else:\n",
    "            self.tail.next=new_node\n",
    "            new_node.next=self.head\n",
    "            self.tail=new_node\n",
    "        self.length+=1\n",
    "csLinkedlist=CSLinkedList()\n",
    "csLinkedlist.append(10)\n",
    "csLinkedlist.append(20)\n",
    "csLinkedlist.append(30)\n",
    "csLinkedlist.append(40)\n",
    "print(csLinkedlist)"
   ]
  },
  {
   "cell_type": "markdown",
   "id": "5898261b-94dc-4345-b359-1036e549ea57",
   "metadata": {},
   "source": [
    "##### Prepend method in CSLL"
   ]
  },
  {
   "cell_type": "code",
   "execution_count": 11,
   "id": "48dcfe5b-0332-43cb-a31b-4c308e80c904",
   "metadata": {},
   "outputs": [
    {
     "name": "stdout",
     "output_type": "stream",
     "text": [
      "   50->10->20->30->40\n"
     ]
    }
   ],
   "source": [
    "class CSLinkedList:\n",
    "    def __init__(self):\n",
    "        self.head=None\n",
    "        self.tail=None\n",
    "        self.length=0\n",
    "    def __str__(self):\n",
    "        temp_node=self.head\n",
    "        result=\"   \"\n",
    "        while temp_node is not None:\n",
    "            result+=str(temp_node.value)\n",
    "            temp_node=temp_node.next\n",
    "            if temp_node==self.head:\n",
    "                break\n",
    "            result+= \"->\"\n",
    "        return result\n",
    "        \n",
    "    def append (self, value):\n",
    "        new_node=Node(value)\n",
    "        if self.length==0:\n",
    "            self.head=new_node\n",
    "            self.tail=new_node\n",
    "            new_node.next=new_node\n",
    "        else:\n",
    "            self.tail.next=new_node\n",
    "            new_node.next=self.head\n",
    "            self.tail=new_node\n",
    "        self.length+=1\n",
    "    def prepend (self, value):\n",
    "        new_node=Node(value)\n",
    "        if self.head is None :\n",
    "            self.head=new_node\n",
    "            self.tail=new_node\n",
    "            new_node.next=new.node\n",
    "        else:\n",
    "            new_node.next=self.head\n",
    "            self.tail.next=new_node\n",
    "            self.head=new_node\n",
    "        self.length+=1\n",
    "            \n",
    "csLinkedlist=CSLinkedList()\n",
    "csLinkedlist.append(10)\n",
    "csLinkedlist.append(20)\n",
    "csLinkedlist.append(30)\n",
    "csLinkedlist.append(40)\n",
    "csLinkedlist.prepend(50)\n",
    "print(csLinkedlist)"
   ]
  },
  {
   "cell_type": "code",
   "execution_count": 20,
   "id": "7cebcab8-491e-43f5-834b-40c42190faba",
   "metadata": {},
   "outputs": [
    {
     "name": "stdout",
     "output_type": "stream",
     "text": [
      "   50->10->20->30->40\n",
      "   50->10->100->20->30->40\n"
     ]
    }
   ],
   "source": [
    "class CSLinkedList:\n",
    "    def __init__(self):\n",
    "        self.head=None\n",
    "        self.tail=None\n",
    "        self.length=0\n",
    "    def __str__(self):\n",
    "        temp_node=self.head\n",
    "        result=\"   \"\n",
    "        while temp_node is not None:\n",
    "            result+=str(temp_node.value)\n",
    "            temp_node=temp_node.next\n",
    "            if temp_node==self.head:\n",
    "                break\n",
    "            result+= \"->\"\n",
    "        return result\n",
    "        \n",
    "    def append (self, value):\n",
    "        new_node=Node(value)\n",
    "        if self.length==0:\n",
    "            self.head=new_node\n",
    "            self.tail=new_node\n",
    "            new_node.next=new_node\n",
    "        else:\n",
    "            self.tail.next=new_node\n",
    "            new_node.next=self.head\n",
    "            self.tail=new_node\n",
    "        self.length+=1\n",
    "    def prepend (self, value):\n",
    "        new_node=Node(value)\n",
    "        if self.head is None :\n",
    "            self.head=new_node\n",
    "            self.tail=new_node\n",
    "            new_node.next=new_node\n",
    "        else:\n",
    "            new_node.next=self.head\n",
    "            self.tail.next=new_node\n",
    "            self.head=new_node\n",
    "        self.length+=1\n",
    "    def insert (self,index,value):\n",
    "        new_node=Node(value)\n",
    "        if index==0:\n",
    "            new_node.next=self.head\n",
    "            self.head=new_node\n",
    "            self.tail.next=new_node\n",
    "        else:\n",
    "            temp_node=self.head\n",
    "            for _ in range ( index-1):\n",
    "                temp_node=temp_node.next\n",
    "            new_node.next=temp_node.next\n",
    "            temp_node.next=new_node\n",
    "        self.length+=1\n",
    "            \n",
    "csLinkedlist=CSLinkedList()\n",
    "csLinkedlist.append(10)\n",
    "csLinkedlist.append(20)\n",
    "csLinkedlist.append(30)\n",
    "csLinkedlist.append(40)\n",
    "csLinkedlist.prepend(50)\n",
    "print(csLinkedlist)\n",
    "csLinkedlist.insert(2,100)\n",
    "print(csLinkedlist)"
   ]
  },
  {
   "cell_type": "markdown",
   "id": "6c6588e7-9e61-4647-821f-b0c5abda1ee0",
   "metadata": {},
   "source": [
    "###### traversal of CSLL"
   ]
  },
  {
   "cell_type": "code",
   "execution_count": 26,
   "id": "aed6f499-6788-4d48-a43c-401f8594fd86",
   "metadata": {},
   "outputs": [
    {
     "name": "stdout",
     "output_type": "stream",
     "text": [
      "   50->10->20->30->40\n",
      "   50->10->100->20->30->40\n",
      "10\n",
      "100\n",
      "20\n",
      "30\n",
      "40\n",
      "50\n",
      "None\n"
     ]
    }
   ],
   "source": [
    "class CSLinkedList:\n",
    "    def __init__(self):\n",
    "        self.head=None\n",
    "        self.tail=None\n",
    "        self.length=0\n",
    "    def __str__(self):\n",
    "        temp_node=self.head\n",
    "        result=\"   \"\n",
    "        while temp_node is not None:\n",
    "            result+=str(temp_node.value)\n",
    "            temp_node=temp_node.next\n",
    "            if temp_node==self.head:\n",
    "                break\n",
    "            result+= \"->\"\n",
    "        return result\n",
    "        \n",
    "    def append (self, value):\n",
    "        new_node=Node(value)\n",
    "        if self.length==0:\n",
    "            self.head=new_node\n",
    "            self.tail=new_node\n",
    "            new_node.next=new_node\n",
    "        else:\n",
    "            self.tail.next=new_node\n",
    "            new_node.next=self.head\n",
    "            self.tail=new_node\n",
    "        self.length+=1\n",
    "    def prepend (self, value):\n",
    "        new_node=Node(value)\n",
    "        if self.head is None :\n",
    "            self.head=new_node\n",
    "            self.tail=new_node\n",
    "            new_node.next=new_node\n",
    "        else:\n",
    "            new_node.next=self.head\n",
    "            self.tail.next=new_node\n",
    "            self.head=new_node\n",
    "        self.length+=1\n",
    "    def insert (self,index,value):\n",
    "        new_node=Node(value)\n",
    "        if index==0:\n",
    "            new_node.next=self.head\n",
    "            self.head=new_node\n",
    "            self.tail.next=new_node\n",
    "        else:\n",
    "            temp_node=self.head\n",
    "            for _ in range ( index-1):\n",
    "                temp_node=temp_node.next\n",
    "            new_node.next=temp_node.next\n",
    "            temp_node.next=new_node\n",
    "        self.length+=1\n",
    "    def traverse(self):\n",
    "        current=self.head\n",
    "        while current is not None:\n",
    "            current=current.next\n",
    "            print(current.value)\n",
    "            if self.head==current:\n",
    "                break\n",
    "csLinkedlist=CSLinkedList()\n",
    "csLinkedlist.append(10)\n",
    "csLinkedlist.append(20)\n",
    "csLinkedlist.append(30)\n",
    "csLinkedlist.append(40)\n",
    "csLinkedlist.prepend(50)\n",
    "print(csLinkedlist)\n",
    "csLinkedlist.insert(2,100)\n",
    "print(csLinkedlist)\n",
    "print(csLinkedlist.traverse())"
   ]
  },
  {
   "cell_type": "markdown",
   "id": "e23c70a1-6412-47a3-866f-c01ed0c06991",
   "metadata": {},
   "source": [
    "##### Search CSLL"
   ]
  },
  {
   "cell_type": "code",
   "execution_count": 41,
   "id": "b48c849e-f456-4412-aa6a-cce3abe1da18",
   "metadata": {},
   "outputs": [
    {
     "name": "stdout",
     "output_type": "stream",
     "text": [
      "   50->10->20->30->40\n",
      "   50->10->100->20->30->40\n",
      "10\n",
      "100\n",
      "20\n",
      "30\n",
      "40\n",
      "50\n",
      "None\n",
      "True\n",
      "False\n"
     ]
    }
   ],
   "source": [
    "class CSLinkedList:\n",
    "    def __init__(self):\n",
    "        self.head=None\n",
    "        self.tail=None\n",
    "        self.length=0\n",
    "    def __str__(self):\n",
    "        temp_node=self.head\n",
    "        result=\"   \"\n",
    "        while temp_node is not None:\n",
    "            result+=str(temp_node.value)\n",
    "            temp_node=temp_node.next\n",
    "            if temp_node==self.head:\n",
    "                break\n",
    "            result+= \"->\"\n",
    "        return result\n",
    "        \n",
    "    def append (self, value):\n",
    "        new_node=Node(value)\n",
    "        if self.length==0:\n",
    "            self.head=new_node\n",
    "            self.tail=new_node\n",
    "            new_node.next=new_node\n",
    "        else:\n",
    "            self.tail.next=new_node\n",
    "            new_node.next=self.head\n",
    "            self.tail=new_node\n",
    "        self.length+=1\n",
    "    def prepend (self, value):\n",
    "        new_node=Node(value)\n",
    "        if self.head is None :\n",
    "            self.head=new_node\n",
    "            self.tail=new_node\n",
    "            new_node.next=new_node\n",
    "        else:\n",
    "            new_node.next=self.head\n",
    "            self.tail.next=new_node\n",
    "            self.head=new_node\n",
    "        self.length+=1\n",
    "    def insert (self,index,value):\n",
    "        new_node=Node(value)\n",
    "        if index==0:\n",
    "            new_node.next=self.head\n",
    "            self.head=new_node\n",
    "            self.tail.next=new_node\n",
    "        else:\n",
    "            temp_node=self.head\n",
    "            for _ in range ( index-1):\n",
    "                temp_node=temp_node.next\n",
    "            new_node.next=temp_node.next\n",
    "            temp_node.next=new_node\n",
    "        self.length+=1\n",
    "    def traverse(self):\n",
    "        current=self.head\n",
    "        while current is not None:\n",
    "            current=current.next\n",
    "            print(current.value)\n",
    "            if self.head==current:\n",
    "                break\n",
    "    def search(self, target):\n",
    "        current=self.head\n",
    "        while current is not None:\n",
    "            if current.value==target:\n",
    "                return True\n",
    "            current=current.next\n",
    "            if current==self.head:\n",
    "                break\n",
    "        return False\n",
    "    \n",
    "csLinkedlist=CSLinkedList()\n",
    "csLinkedlist.append(10)\n",
    "csLinkedlist.append(20)\n",
    "csLinkedlist.append(30)\n",
    "csLinkedlist.append(40)\n",
    "csLinkedlist.prepend(50)\n",
    "print(csLinkedlist)\n",
    "csLinkedlist.insert(2,100)\n",
    "print(csLinkedlist)\n",
    "print(csLinkedlist.traverse())\n",
    "print(csLinkedlist.search(50))\n",
    "print(csLinkedlist.search(60))"
   ]
  },
  {
   "cell_type": "markdown",
   "id": "d6715a9a-b4c5-4c91-8f22-5b6efc530628",
   "metadata": {},
   "source": [
    "### Get method "
   ]
  },
  {
   "cell_type": "code",
   "execution_count": 45,
   "id": "88c414ea-4fde-4e7d-9da8-2be4c7bea38a",
   "metadata": {},
   "outputs": [
    {
     "name": "stdout",
     "output_type": "stream",
     "text": [
      "   50->10->20->30->40\n",
      "   50->10->100->20->30->40\n",
      "40\n"
     ]
    }
   ],
   "source": [
    "class Node:\n",
    "    def __init__(self,value):\n",
    "        self.value=value\n",
    "        self.next=None\n",
    "    def __str__(self):\n",
    "        return str(self.value)\n",
    "        \n",
    "class CSLinkedList:\n",
    "    def __init__(self):\n",
    "        self.head=None\n",
    "        self.tail=None\n",
    "        self.length=0\n",
    "    def __str__(self):\n",
    "        temp_node=self.head\n",
    "        result=\"   \"\n",
    "        while temp_node is not None:\n",
    "            result+=str(temp_node.value)\n",
    "            temp_node=temp_node.next\n",
    "            if temp_node==self.head:\n",
    "                break\n",
    "            result+= \"->\"\n",
    "        return result\n",
    "        \n",
    "    def append (self, value):\n",
    "        new_node=Node(value)\n",
    "        if self.length==0:\n",
    "            self.head=new_node\n",
    "            self.tail=new_node\n",
    "            new_node.next=new_node\n",
    "        else:\n",
    "            self.tail.next=new_node\n",
    "            new_node.next=self.head\n",
    "            self.tail=new_node\n",
    "        self.length+=1\n",
    "    def prepend (self, value):\n",
    "        new_node=Node(value)\n",
    "        if self.head is None :\n",
    "            self.head=new_node\n",
    "            self.tail=new_node\n",
    "            new_node.next=new_node\n",
    "        else:\n",
    "            new_node.next=self.head\n",
    "            self.tail.next=new_node\n",
    "            self.head=new_node\n",
    "        self.length+=1\n",
    "    def insert (self,index,value):\n",
    "        new_node=Node(value)\n",
    "        if index==0:\n",
    "            new_node.next=self.head\n",
    "            self.head=new_node\n",
    "            self.tail.next=new_node\n",
    "        else:\n",
    "            temp_node=self.head\n",
    "            for _ in range ( index-1):\n",
    "                temp_node=temp_node.next\n",
    "            new_node.next=temp_node.next\n",
    "            temp_node.next=new_node\n",
    "        self.length+=1\n",
    "    def traverse(self):\n",
    "        current=self.head\n",
    "        while current is not None:\n",
    "            current=current.next\n",
    "            print(current.value)\n",
    "            if self.head==current:\n",
    "                break\n",
    "    def search(self, target):\n",
    "        current=self.head\n",
    "        while current is not None:\n",
    "            if current.value==target:\n",
    "                return True\n",
    "            current=current.next\n",
    "            if current==self.head:\n",
    "                break\n",
    "        return False\n",
    "    def get(self,index):\n",
    "        if index==-1:\n",
    "            return self.tail\n",
    "        elif index<-1 or index>=self.length:\n",
    "            return None\n",
    "        current=self.head\n",
    "        for _ in range(index):\n",
    "            current=current.next\n",
    "        return current\n",
    "csLinkedlist=CSLinkedList()\n",
    "csLinkedlist.append(10)\n",
    "csLinkedlist.append(20)\n",
    "csLinkedlist.append(30)\n",
    "csLinkedlist.append(40)\n",
    "csLinkedlist.prepend(50)\n",
    "print(csLinkedlist)\n",
    "csLinkedlist.insert(2,100)\n",
    "print(csLinkedlist)\n",
    "print(csLinkedlist.get(-1))"
   ]
  },
  {
   "cell_type": "markdown",
   "id": "d7912bd6-1c29-410c-a550-1daf536b60d3",
   "metadata": {},
   "source": [
    "#### Set method "
   ]
  },
  {
   "cell_type": "code",
   "execution_count": 48,
   "id": "18c12d9d-bf9c-41f0-affb-76538f8c768b",
   "metadata": {},
   "outputs": [
    {
     "name": "stdout",
     "output_type": "stream",
     "text": [
      "   50->10->20->30->40\n",
      "   50->10->100->20->30->40\n",
      "40\n",
      "True\n",
      "   50->10->150->20->30->40\n"
     ]
    }
   ],
   "source": [
    " class Node:\n",
    "    def __init__(self,value):\n",
    "        self.value=value\n",
    "        self.next=None\n",
    "    def __str__(self):\n",
    "        return str(self.value)\n",
    "        \n",
    "class CSLinkedList:\n",
    "    def __init__(self):\n",
    "        self.head=None\n",
    "        self.tail=None\n",
    "        self.length=0\n",
    "    def __str__(self):\n",
    "        temp_node=self.head\n",
    "        result=\"   \"\n",
    "        while temp_node is not None:\n",
    "            result+=str(temp_node.value)\n",
    "            temp_node=temp_node.next\n",
    "            if temp_node==self.head:\n",
    "                break\n",
    "            result+= \"->\"\n",
    "        return result\n",
    "        \n",
    "    def append (self, value):\n",
    "        new_node=Node(value)\n",
    "        if self.length==0:\n",
    "            self.head=new_node\n",
    "            self.tail=new_node\n",
    "            new_node.next=new_node\n",
    "        else:\n",
    "            self.tail.next=new_node\n",
    "            new_node.next=self.head\n",
    "            self.tail=new_node\n",
    "        self.length+=1\n",
    "    def prepend (self, value):\n",
    "        new_node=Node(value)\n",
    "        if self.head is None :\n",
    "            self.head=new_node\n",
    "            self.tail=new_node\n",
    "            new_node.next=new_node\n",
    "        else:\n",
    "            new_node.next=self.head\n",
    "            self.tail.next=new_node\n",
    "            self.head=new_node\n",
    "        self.length+=1\n",
    "    def insert (self,index,value):\n",
    "        new_node=Node(value)\n",
    "        if index==0:\n",
    "            new_node.next=self.head\n",
    "            self.head=new_node\n",
    "            self.tail.next=new_node\n",
    "        else:\n",
    "            temp_node=self.head\n",
    "            for _ in range ( index-1):\n",
    "                temp_node=temp_node.next\n",
    "            new_node.next=temp_node.next\n",
    "            temp_node.next=new_node\n",
    "        self.length+=1\n",
    "    def traverse(self):\n",
    "        current=self.head\n",
    "        while current is not None:\n",
    "            current=current.next\n",
    "            print(current.value)\n",
    "            if self.head==current:\n",
    "                break\n",
    "    def search(self, target):\n",
    "        current=self.head\n",
    "        while current is not None:\n",
    "            if current.value==target:\n",
    "                return True\n",
    "            current=current.next\n",
    "            if current==self.head:\n",
    "                break\n",
    "        return False\n",
    "    def get(self,index):\n",
    "        if index==-1:\n",
    "            return self.tail\n",
    "        elif index<-1 or index>=self.length:\n",
    "            return None\n",
    "        current=self.head\n",
    "        for _ in range(index):\n",
    "            current=current.next\n",
    "        return current\n",
    "    def set_value(self,index,value):\n",
    "        temp=self.get(index)\n",
    "        if temp is not None:\n",
    "            temp.value=value\n",
    "            return True \n",
    "        return False\n",
    "csLinkedlist=CSLinkedList()\n",
    "csLinkedlist.append(10)\n",
    "csLinkedlist.append(20)\n",
    "csLinkedlist.append(30)\n",
    "csLinkedlist.append(40)\n",
    "csLinkedlist.prepend(50)\n",
    "print(csLinkedlist)\n",
    "csLinkedlist.insert(2,100)\n",
    "print(csLinkedlist)\n",
    "print(csLinkedlist.get(-1))\n",
    "print(csLinkedlist.set_value(2,150))\n",
    "print(csLinkedlist)"
   ]
  },
  {
   "cell_type": "code",
   "execution_count": 53,
   "id": "31d7be6e-1d89-468e-8116-747b1ed1f1ee",
   "metadata": {},
   "outputs": [
    {
     "name": "stdout",
     "output_type": "stream",
     "text": [
      "40\n",
      "True\n",
      "   50->10->150->20->30->40\n",
      "50\n",
      "   10->150->20->30->40\n"
     ]
    }
   ],
   "source": [
    " class Node:\n",
    "    def __init__(self,value):\n",
    "        self.value=value\n",
    "        self.next=None\n",
    "    def __str__(self):\n",
    "        return str(self.value)\n",
    "        \n",
    "class CSLinkedList:\n",
    "    def __init__(self):\n",
    "        self.head=None\n",
    "        self.tail=None\n",
    "        self.length=0\n",
    "    def __str__(self):\n",
    "        temp_node=self.head\n",
    "        result=\"   \"\n",
    "        while temp_node is not None:\n",
    "            result+=str(temp_node.value)\n",
    "            temp_node=temp_node.next\n",
    "            if temp_node==self.head:\n",
    "                break\n",
    "            result+= \"->\"\n",
    "        return result\n",
    "        \n",
    "    def append (self, value):\n",
    "        new_node=Node(value)\n",
    "        if self.length==0:\n",
    "            self.head=new_node\n",
    "            self.tail=new_node\n",
    "            new_node.next=new_node\n",
    "        else:\n",
    "            self.tail.next=new_node\n",
    "            new_node.next=self.head\n",
    "            self.tail=new_node\n",
    "        self.length+=1\n",
    "    def prepend (self, value):\n",
    "        new_node=Node(value)\n",
    "        if self.head is None :\n",
    "            self.head=new_node\n",
    "            self.tail=new_node\n",
    "            new_node.next=new_node\n",
    "        else:\n",
    "            new_node.next=self.head\n",
    "            self.tail.next=new_node\n",
    "            self.head=new_node\n",
    "        self.length+=1\n",
    "    def insert (self,index,value):\n",
    "        new_node=Node(value)\n",
    "        if index==0:\n",
    "            new_node.next=self.head\n",
    "            self.head=new_node\n",
    "            self.tail.next=new_node\n",
    "        else:\n",
    "            temp_node=self.head\n",
    "            for _ in range ( index-1):\n",
    "                temp_node=temp_node.next\n",
    "            new_node.next=temp_node.next\n",
    "            temp_node.next=new_node\n",
    "        self.length+=1\n",
    "    def traverse(self):\n",
    "        current=self.head\n",
    "        while current is not None:\n",
    "            current=current.next\n",
    "            print(current.value)\n",
    "            if self.head==current:\n",
    "                break\n",
    "    def search(self, target):\n",
    "        current=self.head\n",
    "        while current is not None:\n",
    "            if current.value==target:\n",
    "                return True\n",
    "            current=current.next\n",
    "            if current==self.head:\n",
    "                break\n",
    "        return False\n",
    "    def get(self,index):\n",
    "        if index==-1:\n",
    "            return self.tail\n",
    "        elif index<-1 or index>=self.length:\n",
    "            return None\n",
    "        current=self.head\n",
    "        for _ in range(index):\n",
    "            current=current.next\n",
    "        return current\n",
    "    def set_value(self,index,value):\n",
    "        temp=self.get(index)\n",
    "        if temp is not None:\n",
    "            temp.value=value\n",
    "            return True \n",
    "        return False\n",
    "    def popped_first(self):\n",
    "        popped_node=self.head\n",
    "        self.head=self.head.next\n",
    "        self.tail.next=self.head\n",
    "        popped_node.next=None\n",
    "        self.length-=1\n",
    "        return popped_node    \n",
    "csLinkedlist=CSLinkedList()\n",
    "csLinkedlist.append(10)\n",
    "csLinkedlist.append(20)\n",
    "csLinkedlist.append(30)\n",
    "csLinkedlist.append(40)\n",
    "csLinkedlist.prepend(50)\n",
    "#print(csLinkedlist)\n",
    "csLinkedlist.insert(2,100)\n",
    "#print(csLinkedlist)\n",
    "print(csLinkedlist.get(-1))\n",
    "print(csLinkedlist.set_value(2,150))\n",
    "print(csLinkedlist)\n",
    "print(csLinkedlist.popped_first())\n",
    "print(csLinkedlist)"
   ]
  },
  {
   "cell_type": "code",
   "execution_count": 49,
   "id": "3a948542-530b-4fd9-a19d-bef0545976ca",
   "metadata": {},
   "outputs": [],
   "source": [
    "def popped_first(self):\n",
    "    popped_node=self.head\n",
    "    self.head=self.head.next\n",
    "    self.tail.next=self.head\n",
    "    popped_node.next=None\n",
    "    self.length-=1\n",
    "    return popped_node  "
   ]
  },
  {
   "cell_type": "markdown",
   "id": "0cbf6741-5cc1-462e-a756-2cf1a86f58a0",
   "metadata": {},
   "source": [
    "## Pop method ( Important)"
   ]
  },
  {
   "cell_type": "code",
   "execution_count": null,
   "id": "6f8cef3e-8a9b-451f-83c0-af6efd627306",
   "metadata": {},
   "outputs": [],
   "source": [
    "def pop(self):\n",
    "    temp=self.head\n",
    "    popped_node=self.tail\n",
    "    while temp.next is not self.tail:\n",
    "        temp=temp.next\n",
    "    temp.next=self.head\n",
    "    self.tail=temp\n",
    "    popped_node.next=None\n",
    "    self.length-=1\n",
    "    return popped_node"
   ]
  },
  {
   "cell_type": "code",
   "execution_count": null,
   "id": "c4681824-9b29-4ddb-b19e-8b740a7f8d0c",
   "metadata": {},
   "outputs": [],
   "source": []
  },
  {
   "cell_type": "markdown",
   "id": "d4d3143d-9db8-425f-9739-bab72a8e61b9",
   "metadata": {},
   "source": [
    "##### Delete All nodes "
   ]
  },
  {
   "cell_type": "code",
   "execution_count": null,
   "id": "450226c5-2082-498c-b98c-a0c568805418",
   "metadata": {},
   "outputs": [],
   "source": [
    "def delete_all(self):\n",
    "    self.tail.next=None\n",
    "    self.head=None\n",
    "    self.tail=None\n",
    "    self.length=0"
   ]
  },
  {
   "cell_type": "code",
   "execution_count": 9,
   "id": "3de82f73-4ebc-41a8-87b4-f731053fef57",
   "metadata": {},
   "outputs": [
    {
     "name": "stdout",
     "output_type": "stream",
     "text": [
      "40\n",
      "True\n",
      "   50->10->150->20->30->40\n",
      "50\n",
      "   10->150->20->30->40\n",
      "None\n",
      "   \n"
     ]
    }
   ],
   "source": [
    " class Node:\n",
    "    def __init__(self,value):\n",
    "        self.value=value\n",
    "        self.next=None\n",
    "    def __str__(self):\n",
    "        return str(self.value)\n",
    "        \n",
    "class CSLinkedList:\n",
    "    def __init__(self):\n",
    "        self.head=None\n",
    "        self.tail=None\n",
    "        self.length=0\n",
    "    def __str__(self):\n",
    "        temp_node=self.head\n",
    "        result=\"   \"\n",
    "        while temp_node is not None:\n",
    "            result+=str(temp_node.value)\n",
    "            temp_node=temp_node.next\n",
    "            if temp_node==self.head:\n",
    "                break\n",
    "            result+= \"->\"\n",
    "        return result\n",
    "        \n",
    "    def append (self, value):\n",
    "        new_node=Node(value)\n",
    "        if self.length==0:\n",
    "            self.head=new_node\n",
    "            self.tail=new_node\n",
    "            new_node.next=new_node\n",
    "        else:\n",
    "            self.tail.next=new_node\n",
    "            new_node.next=self.head\n",
    "            self.tail=new_node\n",
    "        self.length+=1\n",
    "    def prepend (self, value):\n",
    "        new_node=Node(value)\n",
    "        if self.head is None :\n",
    "            self.head=new_node\n",
    "            self.tail=new_node\n",
    "            new_node.next=new_node\n",
    "        else:\n",
    "            new_node.next=self.head\n",
    "            self.tail.next=new_node\n",
    "            self.head=new_node\n",
    "        self.length+=1\n",
    "    def insert (self,index,value):\n",
    "        new_node=Node(value)\n",
    "        if index==0:\n",
    "            new_node.next=self.head\n",
    "            self.head=new_node\n",
    "            self.tail.next=new_node\n",
    "        else:\n",
    "            temp_node=self.head\n",
    "            for _ in range ( index-1):\n",
    "                temp_node=temp_node.next\n",
    "            new_node.next=temp_node.next\n",
    "            temp_node.next=new_node\n",
    "        self.length+=1\n",
    "    def traverse(self):\n",
    "        current=self.head\n",
    "        while current is not None:\n",
    "            current=current.next\n",
    "            print(current.value)\n",
    "            if self.head==current:\n",
    "                break\n",
    "    def search(self, target):\n",
    "        current=self.head\n",
    "        while current is not None:\n",
    "            if current.value==target:\n",
    "                return True\n",
    "            current=current.next\n",
    "            if current==self.head:\n",
    "                break\n",
    "        return False\n",
    "    def get(self,index):\n",
    "        if index==-1:\n",
    "            return self.tail\n",
    "        elif index<-1 or index>=self.length:\n",
    "            return None\n",
    "        current=self.head\n",
    "        for _ in range(index):\n",
    "            current=current.next\n",
    "        return current\n",
    "    def set_value(self,index,value):\n",
    "        temp=self.get(index)\n",
    "        if temp is not None:\n",
    "            temp.value=value\n",
    "            return True \n",
    "        return False\n",
    "    def popped_first(self):\n",
    "        popped_node=self.head\n",
    "        self.head=self.head.next\n",
    "        self.tail.next=self.head\n",
    "        popped_node.next=None\n",
    "        self.length-=1\n",
    "        return popped_node\n",
    "    def delete_all(self):\n",
    "        self.tail.next=None\n",
    "        self.head=None\n",
    "        self.tail=None\n",
    "        self.length=0\n",
    "        \n",
    "csLinkedlist=CSLinkedList()\n",
    "csLinkedlist.append(10)\n",
    "csLinkedlist.append(20)\n",
    "csLinkedlist.append(30)\n",
    "csLinkedlist.append(40)\n",
    "csLinkedlist.prepend(50)\n",
    "#print(csLinkedlist)\n",
    "csLinkedlist.insert(2,100)\n",
    "#print(csLinkedlist)\n",
    "print(csLinkedlist.get(-1))\n",
    "print(csLinkedlist.set_value(2,150))\n",
    "print(csLinkedlist)\n",
    "print(csLinkedlist.popped_first())\n",
    "print(csLinkedlist)\n",
    "print(csLinkedlist.delete_all())\n",
    "print(csLinkedlist)"
   ]
  },
  {
   "cell_type": "markdown",
   "id": "883fab32-7a12-47d0-86f1-4a4698042492",
   "metadata": {},
   "source": [
    "#### Doubly Linked List"
   ]
  },
  {
   "cell_type": "code",
   "execution_count": 14,
   "id": "6817e62a-70cd-48e6-945c-77c860766540",
   "metadata": {},
   "outputs": [
    {
     "name": "stdout",
     "output_type": "stream",
     "text": [
      " None <- 10 -> None \n"
     ]
    }
   ],
   "source": [
    "class Node:\n",
    "    def __init__(self,value):\n",
    "        self.value=value\n",
    "        self.next=None\n",
    "        self.prev=None\n",
    "    def __str__(self):\n",
    "        #return str(self.value)\n",
    "        return f\" {self.prev} <- {self.value} -> {self.next} \"\n",
    "\n",
    "new_node=Node(10)\n",
    "print(new_node)"
   ]
  },
  {
   "cell_type": "markdown",
   "id": "0bfabcf7-9193-4e49-b27a-e9a1f6537f56",
   "metadata": {},
   "source": [
    "### Append method "
   ]
  },
  {
   "cell_type": "code",
   "execution_count": 19,
   "id": "9455406c-e217-44f3-afda-e720e817c492",
   "metadata": {},
   "outputs": [
    {
     "name": "stdout",
     "output_type": "stream",
     "text": [
      " None <- 10 -> None \n",
      "20\n",
      "10\n"
     ]
    }
   ],
   "source": [
    "class Node:\n",
    "    def __init__(self,value):\n",
    "        self.value=value\n",
    "        self.next=None\n",
    "        self.prev=None\n",
    "    def __str__(self):\n",
    "        return str(self.value)\n",
    "class DoublyLinkedList:\n",
    "    def __init__(self):\n",
    "        self.head=None\n",
    "        self.tail=None\n",
    "        self.length=0\n",
    "    def append(self,value):\n",
    "        new_node=Node(value)\n",
    "        if not self.head:\n",
    "            self.head=new_node\n",
    "            self.tail=new_node\n",
    "        else:\n",
    "            self.tail.next=new_node\n",
    "            new_node.prev=self.tail\n",
    "            self.tail=new_node\n",
    "        self.length+=1\n",
    "\n",
    "newDLL=DoublyLinkedList()\n",
    "newDLL.append(10)       \n",
    "newDLL.append(20)\n",
    "print(new_node)\n",
    "print(newDLL.tail)\n",
    "print(newDLL.head)"
   ]
  },
  {
   "cell_type": "code",
   "execution_count": null,
   "id": "d50a6028-8a76-423a-a90f-9f287902dd74",
   "metadata": {},
   "outputs": [],
   "source": []
  },
  {
   "cell_type": "markdown",
   "id": "47e58f65-4fc6-41ae-b394-3b53e18bcaf2",
   "metadata": {},
   "source": [
    "### print method of str DLL"
   ]
  },
  {
   "cell_type": "code",
   "execution_count": null,
   "id": "8af00fdb-2799-4538-ba84-16b988d6b06a",
   "metadata": {},
   "outputs": [],
   "source": [
    "def __str__(self):\n",
    "    temp_node=self.head\n",
    "    result=' '\n",
    "    while temp_node is not None:\n",
    "        result+=str(node.value)\n",
    "        if temp_node.next is not None:\n",
    "            result+=' <-> '\n",
    "        temp_node=temp_node.next\n",
    "    return result \n"
   ]
  },
  {
   "cell_type": "code",
   "execution_count": 5,
   "id": "c39553a1-f47b-46fe-83b5-4bbae6ab89b4",
   "metadata": {},
   "outputs": [
    {
     "name": "stdout",
     "output_type": "stream",
     "text": [
      " 10 <-> 20 <-> 40\n"
     ]
    }
   ],
   "source": [
    "class Node:\n",
    "    def __init__(self,value):\n",
    "        self.value=value\n",
    "        self.next=None\n",
    "        self.prev=None\n",
    "    def __str__(self):\n",
    "        return str(self.value)\n",
    "class DoublyLinkedList:\n",
    "    def __init__(self):\n",
    "        self.head=None\n",
    "        self.tail=None\n",
    "        self.length=0\n",
    "\n",
    "    def __str__(self):\n",
    "        temp_node=self.head\n",
    "        result=' '\n",
    "        while temp_node is not None:\n",
    "            result+=str(temp_node.value)\n",
    "            if temp_node.next is not None:\n",
    "                result+=' <-> '\n",
    "            temp_node=temp_node.next\n",
    "        return result \n",
    "\n",
    "    def append(self,value):\n",
    "        new_node=Node(value)\n",
    "        if not self.head:\n",
    "            self.head=new_node\n",
    "            self.tail=new_node\n",
    "        else:\n",
    "            self.tail.next=new_node\n",
    "            new_node.prev=self.tail\n",
    "            self.tail=new_node\n",
    "        self.length+=1\n",
    "\n",
    "newDLL=DoublyLinkedList()\n",
    "newDLL.append(10)       \n",
    "newDLL.append(20)\n",
    "newDLL.append(40)\n",
    "print(newDLL)"
   ]
  },
  {
   "cell_type": "markdown",
   "id": "7a674985-5d30-4da5-b8e5-fdb70747ee89",
   "metadata": {},
   "source": [
    "### prepend method "
   ]
  },
  {
   "cell_type": "code",
   "execution_count": 7,
   "id": "6d7a2b1e-5c72-4e7b-b465-eeb986da6126",
   "metadata": {},
   "outputs": [],
   "source": [
    "def prepend(self,value):\n",
    "    new_node=Node(value)\n",
    "    if self.head is None:\n",
    "        self.head=new_node\n",
    "        self.tail=new_node\n",
    "    else:\n",
    "        new_node.next=self.head\n",
    "        self.head.prev=new_node\n",
    "        self.head=new_node\n",
    "    self.length+=1\n",
    "    #return prepend.node"
   ]
  },
  {
   "cell_type": "code",
   "execution_count": 8,
   "id": "8cce15e5-8978-49b2-899b-6dc77e13d883",
   "metadata": {},
   "outputs": [
    {
     "name": "stdout",
     "output_type": "stream",
     "text": [
      " 10 <-> 20 <-> 40\n",
      " 60 <-> 10 <-> 20 <-> 40\n"
     ]
    }
   ],
   "source": [
    "class Node:\n",
    "    def __init__(self,value):\n",
    "        self.value=value\n",
    "        self.next=None\n",
    "        self.prev=None\n",
    "    def __str__(self):\n",
    "        return str(self.value)\n",
    "class DoublyLinkedList:\n",
    "    def __init__(self):\n",
    "        self.head=None\n",
    "        self.tail=None\n",
    "        self.length=0\n",
    "\n",
    "    def __str__(self):\n",
    "        temp_node=self.head\n",
    "        result=' '\n",
    "        while temp_node is not None:\n",
    "            result+=str(temp_node.value)\n",
    "            if temp_node.next is not None:\n",
    "                result+=' <-> '\n",
    "            temp_node=temp_node.next\n",
    "        return result \n",
    "\n",
    "    def append(self,value):\n",
    "        new_node=Node(value)\n",
    "        if not self.head:\n",
    "            self.head=new_node\n",
    "            self.tail=new_node\n",
    "        else:\n",
    "            self.tail.next=new_node\n",
    "            new_node.prev=self.tail\n",
    "            self.tail=new_node\n",
    "        self.length+=1\n",
    "    def prepend(self,value):\n",
    "        new_node=Node(value)\n",
    "        if self.head is None:\n",
    "            self.head=new_node\n",
    "            self.tail=new_node\n",
    "        else:\n",
    "            new_node.next=self.head\n",
    "            self.head.prev=new_node\n",
    "            self.head=new_node\n",
    "        self.length+=1\n",
    "newDLL=DoublyLinkedList()\n",
    "newDLL.append(10)       \n",
    "newDLL.append(20)\n",
    "newDLL.append(40)\n",
    "print(newDLL)\n",
    "newDLL.prepend(60)\n",
    "print(newDLL)"
   ]
  },
  {
   "cell_type": "markdown",
   "id": "85eb4f86-491b-4a97-a3c0-6e7ad007116d",
   "metadata": {},
   "source": [
    "#### traverse method "
   ]
  },
  {
   "cell_type": "code",
   "execution_count": 9,
   "id": "ca524e04-b4b6-400c-b159-223f2cde669b",
   "metadata": {},
   "outputs": [],
   "source": [
    "def traverse(self):\n",
    "    current_node=self.head\n",
    "    while current_node:\n",
    "        print(current_node.value)\n",
    "        current_node=current_node.next"
   ]
  },
  {
   "cell_type": "code",
   "execution_count": 13,
   "id": "e995dc6c-da13-486e-96a1-90523e1624b5",
   "metadata": {},
   "outputs": [
    {
     "name": "stdout",
     "output_type": "stream",
     "text": [
      " 60 <-> 10 <-> 20 <-> 40\n",
      "60\n",
      "10\n",
      "20\n",
      "40\n"
     ]
    }
   ],
   "source": [
    "class Node:\n",
    "    def __init__(self,value):\n",
    "        self.value=value\n",
    "        self.next=None\n",
    "        self.prev=None\n",
    "    def __str__(self):\n",
    "        return str(self.value)\n",
    "class DoublyLinkedList:\n",
    "    def __init__(self):\n",
    "        self.head=None\n",
    "        self.tail=None\n",
    "        self.length=0\n",
    "\n",
    "    def __str__(self):\n",
    "        temp_node=self.head\n",
    "        result=' '\n",
    "        while temp_node is not None:\n",
    "            result+=str(temp_node.value)\n",
    "            if temp_node.next is not None:\n",
    "                result+=' <-> '\n",
    "            temp_node=temp_node.next\n",
    "        return result \n",
    "\n",
    "    def append(self,value):\n",
    "        new_node=Node(value)\n",
    "        if not self.head:\n",
    "            self.head=new_node\n",
    "            self.tail=new_node\n",
    "        else:\n",
    "            self.tail.next=new_node\n",
    "            new_node.prev=self.tail\n",
    "            self.tail=new_node\n",
    "        self.length+=1\n",
    "    def prepend(self,value):\n",
    "        new_node=Node(value)\n",
    "        if self.head is None:\n",
    "            self.head=new_node\n",
    "            self.tail=new_node\n",
    "        else:\n",
    "            new_node.next=self.head\n",
    "            self.head.prev=new_node\n",
    "            self.head=new_node\n",
    "        self.length+=1\n",
    "    def traverse(self):\n",
    "        current_node=self.head\n",
    "        while current_node:\n",
    "            print(current_node.value)\n",
    "            current_node=current_node.next\n",
    "newDLL=DoublyLinkedList()\n",
    "newDLL.append(10)       \n",
    "newDLL.append(20)\n",
    "newDLL.append(40)\n",
    "newDLL.prepend(60)\n",
    "print(newDLL)\n",
    "newDLL.traverse()"
   ]
  },
  {
   "cell_type": "markdown",
   "id": "2bd57098-81df-4c46-85be-b699069945f4",
   "metadata": {},
   "source": [
    "#### reverse_traversal"
   ]
  },
  {
   "cell_type": "code",
   "execution_count": null,
   "id": "1ea6091a-f85c-41fc-9e2c-21bc37894169",
   "metadata": {},
   "outputs": [],
   "source": [
    "def reverse_traversal(self):\n",
    "    current_node=self.tail\n",
    "    while current_node is not None:\n",
    "        print(current_node.value)\n",
    "        current_node=current_node.prev"
   ]
  },
  {
   "cell_type": "code",
   "execution_count": 1,
   "id": "8ca90d1c-59d5-47b1-a20e-19b434a6480c",
   "metadata": {},
   "outputs": [
    {
     "name": "stdout",
     "output_type": "stream",
     "text": [
      " 60 <-> 10 <-> 20 <-> 40\n",
      "40\n",
      "20\n",
      "10\n",
      "60\n"
     ]
    }
   ],
   "source": [
    "class Node:\n",
    "    def __init__(self,value):\n",
    "        self.value=value\n",
    "        self.next=None\n",
    "        self.prev=None\n",
    "    def __str__(self):\n",
    "        return str(self.value)\n",
    "class DoublyLinkedList:\n",
    "    def __init__(self):\n",
    "        self.head=None\n",
    "        self.tail=None\n",
    "        self.length=0\n",
    "\n",
    "    def __str__(self):\n",
    "        temp_node=self.head\n",
    "        result=' '\n",
    "        while temp_node is not None:\n",
    "            result+=str(temp_node.value)\n",
    "            if temp_node.next is not None:\n",
    "                result+=' <-> '\n",
    "            temp_node=temp_node.next\n",
    "        return result \n",
    "\n",
    "    def append(self,value):\n",
    "        new_node=Node(value)\n",
    "        if not self.head:\n",
    "            self.head=new_node\n",
    "            self.tail=new_node\n",
    "        else:\n",
    "            self.tail.next=new_node\n",
    "            new_node.prev=self.tail\n",
    "            self.tail=new_node\n",
    "        self.length+=1\n",
    "    def prepend(self,value):\n",
    "        new_node=Node(value)\n",
    "        if self.head is None:\n",
    "            self.head=new_node\n",
    "            self.tail=new_node\n",
    "        else:\n",
    "            new_node.next=self.head\n",
    "            self.head.prev=new_node\n",
    "            self.head=new_node\n",
    "        self.length+=1\n",
    "    def reverse_traversal(self):\n",
    "        current_node=self.tail\n",
    "        while current_node is not None:\n",
    "            print(current_node.value)\n",
    "            current_node=current_node.prev\n",
    "newDLL=DoublyLinkedList()\n",
    "newDLL.append(10)       \n",
    "newDLL.append(20)\n",
    "newDLL.append(40)\n",
    "newDLL.prepend(60)\n",
    "print(newDLL)\n",
    "newDLL.reverse_traversal()"
   ]
  },
  {
   "cell_type": "markdown",
   "id": "568e7f59-ad8f-46b2-ba72-9d98123fb879",
   "metadata": {},
   "source": [
    "#### Search method"
   ]
  },
  {
   "cell_type": "code",
   "execution_count": 3,
   "id": "52455535-8280-43f8-a87f-e1d425994b7b",
   "metadata": {},
   "outputs": [],
   "source": [
    "def search(self,target):\n",
    "    current_node=self.head\n",
    "    while current_node:\n",
    "        if current_node.value==target:\n",
    "            return true\n",
    "        current_node=current_node.next\n",
    "    return false"
   ]
  },
  {
   "cell_type": "code",
   "execution_count": 12,
   "id": "5b70f2e3-e41a-4290-923f-fbb59a2956c7",
   "metadata": {},
   "outputs": [
    {
     "name": "stdout",
     "output_type": "stream",
     "text": [
      " 60 <-> 10 <-> 20 <-> 40\n",
      "40\n",
      "20\n",
      "10\n",
      "60\n"
     ]
    },
    {
     "data": {
      "text/plain": [
       "2"
      ]
     },
     "execution_count": 12,
     "metadata": {},
     "output_type": "execute_result"
    }
   ],
   "source": [
    "class Node:\n",
    "    def __init__(self,value):\n",
    "        self.value=value\n",
    "        self.next=None\n",
    "        self.prev=None\n",
    "    def __str__(self):\n",
    "        return str(self.value)\n",
    "class DoublyLinkedList:\n",
    "    def __init__(self):\n",
    "        self.head=None\n",
    "        self.tail=None\n",
    "        self.length=0\n",
    "\n",
    "    def __str__(self):\n",
    "        temp_node=self.head\n",
    "        result=' '\n",
    "        while temp_node is not None:\n",
    "            result+=str(temp_node.value)\n",
    "            if temp_node.next is not None:\n",
    "                result+=' <-> '\n",
    "            temp_node=temp_node.next\n",
    "        return result \n",
    "\n",
    "    def append(self,value):\n",
    "        new_node=Node(value)\n",
    "        if not self.head:\n",
    "            self.head=new_node\n",
    "            self.tail=new_node\n",
    "        else:\n",
    "            self.tail.next=new_node\n",
    "            new_node.prev=self.tail\n",
    "            self.tail=new_node\n",
    "        self.length+=1\n",
    "    def prepend(self,value):\n",
    "        new_node=Node(value)\n",
    "        if self.head is None:\n",
    "            self.head=new_node\n",
    "            self.tail=new_node\n",
    "        else:\n",
    "            new_node.next=self.head\n",
    "            self.head.prev=new_node\n",
    "            self.head=new_node\n",
    "        self.length+=1\n",
    "    def reverse_traversal(self):\n",
    "        current_node=self.tail\n",
    "        while current_node is not None:\n",
    "            print(current_node.value)\n",
    "            current_node=current_node.prev\n",
    "    def search(self,target):\n",
    "        current_node=self.head\n",
    "        index=0\n",
    "        while current_node:\n",
    "            if current_node.value==target:\n",
    "                return index \n",
    "            current_node=current_node.next\n",
    "            index+=1\n",
    "        return -1\n",
    "\n",
    "newDLL=DoublyLinkedList()\n",
    "newDLL.append(10)       \n",
    "newDLL.append(20)\n",
    "newDLL.append(40)\n",
    "newDLL.prepend(60)\n",
    "print(newDLL)\n",
    "newDLL.reverse_traversal()\n",
    "newDLL.search(20)"
   ]
  },
  {
   "cell_type": "markdown",
   "id": "4e9ceb71-c64f-493e-8fd0-bbd532dc64e4",
   "metadata": {},
   "source": [
    "### Get method "
   ]
  },
  {
   "cell_type": "code",
   "execution_count": 6,
   "id": "42b3255f-2fa8-4f63-a846-2e3d5acf5d78",
   "metadata": {},
   "outputs": [],
   "source": [
    "def get(self,index):\n",
    "    if index < self.length//2 :\n",
    "        current_node=self.head\n",
    "        for _ in range(index):\n",
    "            current_node=current_node.next\n",
    "    else:\n",
    "        current_node=self.tail\n",
    "        for _ in range(self.length-1 , index, -1 ):\n",
    "            current_node=current_node.prev\n",
    "    return current_node"
   ]
  },
  {
   "cell_type": "markdown",
   "id": "659cc7db-706a-4c68-b608-47c8f512c0a4",
   "metadata": {},
   "source": [
    "### set method DLL"
   ]
  },
  {
   "cell_type": "code",
   "execution_count": 7,
   "id": "ab0a4dfb-daf3-41a6-bd6f-27b290c1032f",
   "metadata": {},
   "outputs": [],
   "source": [
    "def set_values(self,index,value):\n",
    "    node= self.get(index)\n",
    "    if node is not none :\n",
    "        node.value=value\n",
    "        return True \n",
    "    return False"
   ]
  },
  {
   "cell_type": "code",
   "execution_count": null,
   "id": "70e29abd-d220-4e47-8712-dcd77da63205",
   "metadata": {},
   "outputs": [],
   "source": []
  },
  {
   "cell_type": "markdown",
   "id": "e0ad8eee-3375-469e-bc26-4d05cb565554",
   "metadata": {},
   "source": [
    "### Insert method "
   ]
  },
  {
   "cell_type": "code",
   "execution_count": 20,
   "id": "f893f57a-f22d-409d-a5be-1a15603da191",
   "metadata": {},
   "outputs": [],
   "source": [
    "def insert(self, index, value):\n",
    "    if index<0 and index > self.length :\n",
    "        print(\"Index out of bounds\")\n",
    "        return\n",
    "    new_node=Node(value)\n",
    "    if index==0:\n",
    "        self.prepand(value)\n",
    "        return\n",
    "    elif index==self.length:\n",
    "        self.append(value)\n",
    "        return\n",
    "    new_node = Node(value)\n",
    "    temp_node=get(index-1)\n",
    "    temp_node.next=new_node\n",
    "    new_node.prev=temp_node\n",
    "    new_node.next=temp_node.next\n",
    "    temp_node.next.prev=new_node\n",
    "    self.length+=1"
   ]
  },
  {
   "cell_type": "code",
   "execution_count": null,
   "id": "21378e5b-68a7-471d-987b-31bd5fcdddf0",
   "metadata": {},
   "outputs": [],
   "source": []
  },
  {
   "cell_type": "code",
   "execution_count": null,
   "id": "7dd5a0d8-e7dc-42ee-8dea-cc9c01b15da9",
   "metadata": {},
   "outputs": [],
   "source": []
  },
  {
   "cell_type": "markdown",
   "id": "15c02130-d33f-4fa8-96d2-157455aa936c",
   "metadata": {},
   "source": [
    "### DCLL"
   ]
  },
  {
   "cell_type": "code",
   "execution_count": 3,
   "id": "a549b326-6db1-473c-a26d-1b60476db487",
   "metadata": {},
   "outputs": [
    {
     "name": "stdout",
     "output_type": "stream",
     "text": [
      "10\n"
     ]
    }
   ],
   "source": [
    "class Node:\n",
    "    def __init__(self,value):\n",
    "        self.value=value\n",
    "        self.next=None\n",
    "        self.prev=None\n",
    "    def __str__(self):\n",
    "        return str(self.value)\n",
    "        \n",
    "class CircularDoublyLinkedList:\n",
    "    def __init__(self, value):\n",
    "        new_node=Node(value)\n",
    "        self.head=new_node\n",
    "        self.tail=new_node\n",
    "        new_node.next=new_node\n",
    "        new_node.prev=new_node\n",
    "        self.length=1\n",
    "new_cdll=CircularDoublyLinkedList(10)\n",
    "print(new_cdll.tail.value)"
   ]
  },
  {
   "cell_type": "code",
   "execution_count": null,
   "id": "e91b8c1b-de8a-4e44-a358-ef8b32c3b1da",
   "metadata": {},
   "outputs": [],
   "source": [
    "class Node:\n",
    "    def __init__(self,value):\n",
    "        self.value=value\n",
    "        self.next=None\n",
    "        self.prev=None\n",
    "    def __str__(self):\n",
    "        return str(self.value)\n",
    "        \n",
    "class CircularDoublyLinkedList:\n",
    "    def __init__(self, value):\n",
    "        self.head=None\n",
    "        self.tail=None\n",
    "        self.length=0\n",
    "\n",
    "new_cdll=CircularDoublyLinkedList(10)\n",
    "print(new_cdll.tail.value)"
   ]
  },
  {
   "cell_type": "markdown",
   "id": "0b214c15-0fd8-445a-a649-c7cf46db9f63",
   "metadata": {},
   "source": [
    "### Append CDLL"
   ]
  },
  {
   "cell_type": "code",
   "execution_count": 6,
   "id": "8f57a397-fb9d-4390-ad1b-38a85a7a6649",
   "metadata": {},
   "outputs": [
    {
     "name": "stdout",
     "output_type": "stream",
     "text": [
      "20\n"
     ]
    }
   ],
   "source": [
    "class Node:\n",
    "    def __init__(self,value):\n",
    "        self.value=value\n",
    "        self.next=None\n",
    "        self.prev=None\n",
    "    def __str__(self):\n",
    "        return str(self.value)\n",
    "        \n",
    "class CircularDoublyLinkedList:\n",
    "    def __init__(self):\n",
    "        self.head=None\n",
    "        self.tail=None\n",
    "        self.length=0\n",
    "\n",
    "    def append(self, value):\n",
    "        new_node=Node(value)\n",
    "        if self.length==0:\n",
    "            self.head=new_node\n",
    "            self.tail=new_node\n",
    "            new_node.next=new_node\n",
    "            new_node.prev=new_node\n",
    "        else:\n",
    "            self.tail.next=new_node\n",
    "            self.head.prev=new_node\n",
    "            new_node.next=self.head\n",
    "            new_node.prev=self.tail\n",
    "            self.tail=new_node\n",
    "        self.length+=1\n",
    "\n",
    "new_cdll = CircularDoublyLinkedList()\n",
    "new_cdll.append(10)\n",
    "new_cdll.append(20)\n",
    "print(new_cdll.head.next.value)"
   ]
  },
  {
   "cell_type": "code",
   "execution_count": 20,
   "id": "07ed13ae-7626-41d8-8ab3-8d6eb2f50bc8",
   "metadata": {},
   "outputs": [],
   "source": [
    "def __str__(self):\n",
    "    current_node=self.head\n",
    "    result=' '\n",
    "    while current_node:\n",
    "         result+=str(current_node.value)\n",
    "         current_node=current_node.next\n",
    "         if current_node==self.head:\n",
    "             break\n",
    "         result+= ' <-> '\n",
    "    return result"
   ]
  },
  {
   "cell_type": "code",
   "execution_count": 23,
   "id": "a3dabed9-c5c1-461b-8b9d-7baff3ec2d5a",
   "metadata": {},
   "outputs": [
    {
     "name": "stdout",
     "output_type": "stream",
     "text": [
      " 10 <-> 20 <-> 40 <-> 50\n"
     ]
    }
   ],
   "source": [
    "class Node:\n",
    "    def __init__(self,value):\n",
    "        self.value=value\n",
    "        self.next=None\n",
    "        self.prev=None\n",
    "    def __str__(self):\n",
    "        return str(self.value)\n",
    "        \n",
    "class CircularDoublyLinkedList:\n",
    "    def __init__(self):\n",
    "        self.head=None\n",
    "        self.tail=None\n",
    "        self.length=0\n",
    "    def __str__(self):\n",
    "        current_node=self.head\n",
    "        result=' '\n",
    "        while current_node:\n",
    "             result+=str(current_node.value)\n",
    "             current_node=current_node.next\n",
    "             if current_node==self.head:\n",
    "                 break\n",
    "             result+= ' <-> '\n",
    "        return result\n",
    "\n",
    "    def append(self, value):\n",
    "        new_node=Node(value)\n",
    "        if self.length==0:\n",
    "            self.head=new_node\n",
    "            self.tail=new_node\n",
    "            new_node.next=new_node\n",
    "            new_node.prev=new_node\n",
    "        else:\n",
    "            self.tail.next=new_node\n",
    "            self.head.prev=new_node\n",
    "            new_node.next=self.head\n",
    "            new_node.prev=self.tail\n",
    "            self.tail=new_node\n",
    "        self.length+=1\n",
    "\n",
    "new_cdll = CircularDoublyLinkedList()\n",
    "new_cdll.append(10)\n",
    "new_cdll.append(20)\n",
    "new_cdll.append(40)\n",
    "new_cdll.append(50)\n",
    "print(new_cdll)"
   ]
  },
  {
   "cell_type": "code",
   "execution_count": 24,
   "id": "c4f15147-185b-4114-ac54-6b06afd58b91",
   "metadata": {},
   "outputs": [],
   "source": [
    "def prepend(self,value):\n",
    "    new_node=Node(value)\n",
    "    if self.length==0:\n",
    "        self.head=new_node\n",
    "        self.tail=new_node\n",
    "        new_node.next=new_node\n",
    "        new_node.prev=new_node\n",
    "    else:\n",
    "        new_node.next=self.head\n",
    "        self.head.prev=new_node\n",
    "        self.head=new_node\n",
    "        self.tail.next=self.head\n",
    "        self.head.prev=self.tail\n",
    "\n",
    "    self.length+=1"
   ]
  },
  {
   "cell_type": "code",
   "execution_count": 26,
   "id": "a499c431-b699-42da-b928-a82c07df1a93",
   "metadata": {},
   "outputs": [
    {
     "name": "stdout",
     "output_type": "stream",
     "text": [
      " 10 <-> 20 <-> 40 <-> 50\n",
      " 100 <-> 10 <-> 20 <-> 40 <-> 50\n"
     ]
    }
   ],
   "source": [
    "class Node:\n",
    "    def __init__(self,value):\n",
    "        self.value=value\n",
    "        self.next=None\n",
    "        self.prev=None\n",
    "    def __str__(self):\n",
    "        return str(self.value)\n",
    "        \n",
    "class CircularDoublyLinkedList:\n",
    "    def __init__(self):\n",
    "        self.head=None\n",
    "        self.tail=None\n",
    "        self.length=0\n",
    "    def __str__(self):\n",
    "        current_node=self.head\n",
    "        result=' '\n",
    "        while current_node:\n",
    "             result+=str(current_node.value)\n",
    "             current_node=current_node.next\n",
    "             if current_node==self.head:\n",
    "                 break\n",
    "             result+= ' <-> '\n",
    "        return result\n",
    "\n",
    "    def append(self, value):\n",
    "        new_node=Node(value)\n",
    "        if self.length==0:\n",
    "            self.head=new_node\n",
    "            self.tail=new_node\n",
    "            new_node.next=new_node\n",
    "            new_node.prev=new_node\n",
    "        else:\n",
    "            self.tail.next=new_node\n",
    "            self.head.prev=new_node\n",
    "            new_node.next=self.head\n",
    "            new_node.prev=self.tail\n",
    "            self.tail=new_node\n",
    "        self.length+=1\n",
    "    def prepend(self,value):\n",
    "        new_node=Node(value)\n",
    "        if self.length==0:\n",
    "            self.head=new_node\n",
    "            self.tail=new_node\n",
    "            new_node.next=new_node\n",
    "            new_node.prev=new_node\n",
    "        else:\n",
    "            new_node.next=self.head\n",
    "            self.head.prev=new_node\n",
    "            self.head=new_node\n",
    "            self.tail.next=self.head\n",
    "            self.head.prev=self.tail\n",
    "    \n",
    "        self.length+=1\n",
    "\n",
    "new_cdll = CircularDoublyLinkedList()\n",
    "new_cdll.append(10)\n",
    "new_cdll.append(20)\n",
    "new_cdll.append(40)\n",
    "new_cdll.append(50)\n",
    "print(new_cdll)\n",
    "new_cdll.prepend(100)\n",
    "print(new_cdll)"
   ]
  },
  {
   "cell_type": "markdown",
   "id": "538bcbbe-2bca-400b-97d0-7a560ee75344",
   "metadata": {},
   "source": [
    "#### Traversal of Circular Doubly Linked List "
   ]
  },
  {
   "cell_type": "code",
   "execution_count": 2,
   "id": "88837007-aef1-4f6a-9bcc-2a4e5339e081",
   "metadata": {},
   "outputs": [],
   "source": [
    "def traverse(self,value):\n",
    "    current_node=self.head\n",
    "    while current_node:\n",
    "        print(current_node.value)\n",
    "        current_node=current_node.next\n",
    "        if current_node == self.head:\n",
    "            break\n",
    "    self.length+=1"
   ]
  },
  {
   "cell_type": "code",
   "execution_count": 7,
   "id": "d6c5ceea-a09f-448a-a60a-4ffe95e76ea4",
   "metadata": {},
   "outputs": [
    {
     "name": "stdout",
     "output_type": "stream",
     "text": [
      " 10 <-> 20 <-> 40 <-> 50\n",
      " 100 <-> 10 <-> 20 <-> 40 <-> 50\n",
      "100\n",
      "10\n",
      "20\n",
      "40\n",
      "50\n"
     ]
    }
   ],
   "source": [
    "class Node:\n",
    "    def __init__(self,value):\n",
    "        self.value=value\n",
    "        self.next=None\n",
    "        self.prev=None\n",
    "    def __str__(self):\n",
    "        return str(self.value)\n",
    "        \n",
    "class CircularDoublyLinkedList:\n",
    "    def __init__(self):\n",
    "        self.head=None\n",
    "        self.tail=None\n",
    "        self.length=0\n",
    "    def __str__(self):\n",
    "        current_node=self.head\n",
    "        result=' '\n",
    "        while current_node:\n",
    "             result+=str(current_node.value)\n",
    "             current_node=current_node.next\n",
    "             if current_node==self.head:\n",
    "                 break\n",
    "             result+= ' <-> '\n",
    "        return result\n",
    "\n",
    "    def append(self, value):\n",
    "        new_node=Node(value)\n",
    "        if self.length==0:\n",
    "            self.head=new_node\n",
    "            self.tail=new_node\n",
    "            new_node.next=new_node\n",
    "            new_node.prev=new_node\n",
    "        else:\n",
    "            self.tail.next=new_node\n",
    "            self.head.prev=new_node\n",
    "            new_node.next=self.head\n",
    "            new_node.prev=self.tail\n",
    "            self.tail=new_node\n",
    "        self.length+=1\n",
    "    def prepend(self,value):\n",
    "        new_node=Node(value)\n",
    "        if self.length==0:\n",
    "            self.head=new_node\n",
    "            self.tail=new_node\n",
    "            new_node.next=new_node\n",
    "            new_node.prev=new_node\n",
    "        else:\n",
    "            new_node.next=self.head\n",
    "            self.head.prev=new_node\n",
    "            self.head=new_node\n",
    "            self.tail.next=self.head\n",
    "            self.head.prev=self.tail\n",
    "    \n",
    "        self.length+=1\n",
    "\n",
    "    def traverse(self):\n",
    "        current_node=self.head\n",
    "        while current_node:\n",
    "            print(current_node.value)\n",
    "            current_node=current_node.next\n",
    "            if current_node == self.head:\n",
    "                break\n",
    "        self.length+=1\n",
    "\n",
    "new_cdll = CircularDoublyLinkedList()\n",
    "new_cdll.append(10)\n",
    "new_cdll.append(20)\n",
    "new_cdll.append(40)\n",
    "new_cdll.append(50)\n",
    "print(new_cdll)\n",
    "new_cdll.prepend(100)\n",
    "print(new_cdll)\n",
    "new_cdll.traverse()"
   ]
  },
  {
   "cell_type": "markdown",
   "id": "01628117-4528-4f4b-b488-f1e0fdb4a563",
   "metadata": {},
   "source": [
    "### Reverse traversal of circular Doubly Linked List "
   ]
  },
  {
   "cell_type": "code",
   "execution_count": null,
   "id": "264c79de-a160-42c3-9b96-24771c367a68",
   "metadata": {},
   "outputs": [],
   "source": [
    "def reverse_traverse(self):\n",
    "    current_node= self.tail\n",
    "    while current node is not none:\n",
    "        print(current_node.value)\n",
    "        current_node=current_node.prev\n",
    "    if current_node==self.tail:\n",
    "        break"
   ]
  },
  {
   "cell_type": "code",
   "execution_count": 13,
   "id": "15b49345-5582-495d-9f7c-ce967c2d0f7d",
   "metadata": {},
   "outputs": [
    {
     "name": "stdout",
     "output_type": "stream",
     "text": [
      " 10 <-> 20 <-> 40 <-> 50\n",
      " 100 <-> 10 <-> 20 <-> 40 <-> 50\n",
      "50\n",
      "40\n",
      "20\n",
      "10\n",
      "100\n"
     ]
    }
   ],
   "source": [
    "class Node:\n",
    "    def __init__(self,value):\n",
    "        self.value=value\n",
    "        self.next=None\n",
    "        self.prev=None\n",
    "    def __str__(self):\n",
    "        return str(self.value)\n",
    "        \n",
    "class CircularDoublyLinkedList:\n",
    "    def __init__(self):\n",
    "        self.head=None\n",
    "        self.tail=None\n",
    "        self.length=0\n",
    "    def __str__(self):\n",
    "        current_node=self.head\n",
    "        result=' '\n",
    "        while current_node:\n",
    "             result+=str(current_node.value)\n",
    "             current_node=current_node.next\n",
    "             if current_node==self.head:\n",
    "                 break\n",
    "             result+= ' <-> '\n",
    "        return result\n",
    "\n",
    "    def append(self, value):\n",
    "        new_node=Node(value)\n",
    "        if self.length==0:\n",
    "            self.head=new_node\n",
    "            self.tail=new_node\n",
    "            new_node.next=new_node\n",
    "            new_node.prev=new_node\n",
    "        else:\n",
    "            self.tail.next=new_node\n",
    "            self.head.prev=new_node\n",
    "            new_node.next=self.head\n",
    "            new_node.prev=self.tail\n",
    "            self.tail=new_node\n",
    "        self.length+=1\n",
    "    def prepend(self,value):\n",
    "        new_node=Node(value)\n",
    "        if self.length==0:\n",
    "            self.head=new_node\n",
    "            self.tail=new_node\n",
    "            new_node.next=new_node\n",
    "            new_node.prev=new_node\n",
    "        else:\n",
    "            new_node.next=self.head\n",
    "            self.head.prev=new_node\n",
    "            self.head=new_node\n",
    "            self.tail.next=self.head\n",
    "            self.head.prev=self.tail\n",
    "    \n",
    "        self.length+=1\n",
    "\n",
    "    def traverse(self):\n",
    "        current_node=self.head\n",
    "        while current_node:\n",
    "            print(current_node.value)\n",
    "            current_node=current_node.next\n",
    "            if current_node == self.head:\n",
    "                break\n",
    "        self.length+=1\n",
    "\n",
    "\n",
    "    def reverse_traverse(self):\n",
    "        current_node= self.tail\n",
    "        while current_node is not None:\n",
    "            print(current_node.value)\n",
    "            current_node=current_node.prev\n",
    "            if current_node==self.tail:\n",
    "                break\n",
    "\n",
    "new_cdll = CircularDoublyLinkedList()\n",
    "new_cdll.append(10)\n",
    "new_cdll.append(20)\n",
    "new_cdll.append(40)\n",
    "new_cdll.append(50)\n",
    "print(new_cdll)\n",
    "new_cdll.prepend(100)\n",
    "print(new_cdll)\n",
    "#new_cdll.traverse()\n",
    "new_cdll.reverse_traverse()"
   ]
  },
  {
   "cell_type": "markdown",
   "id": "d002bf8b-e67a-4f24-afdb-739268b84a8f",
   "metadata": {},
   "source": [
    "#### Search CDLL "
   ]
  },
  {
   "cell_type": "code",
   "execution_count": 15,
   "id": "4d9a14b1-f378-4ebb-a100-ef90971babcf",
   "metadata": {},
   "outputs": [],
   "source": [
    "def search(self,target):\n",
    "    current_node=self.head\n",
    "    while current_node:\n",
    "        if current_node.value==target:\n",
    "            return True \n",
    "        current_node=current_node.next\n",
    "        if current_node==self.head:\n",
    "            break\n",
    "    return False "
   ]
  },
  {
   "cell_type": "code",
   "execution_count": 18,
   "id": "63630db9-21e2-4bbb-9fde-31f6b7bee824",
   "metadata": {},
   "outputs": [
    {
     "name": "stdout",
     "output_type": "stream",
     "text": [
      " 10 <-> 20 <-> 40 <-> 50\n",
      " 100 <-> 10 <-> 20 <-> 40 <-> 50\n",
      "50\n",
      "40\n",
      "20\n",
      "10\n",
      "100\n"
     ]
    },
    {
     "data": {
      "text/plain": [
       "False"
      ]
     },
     "execution_count": 18,
     "metadata": {},
     "output_type": "execute_result"
    }
   ],
   "source": [
    "class Node:\n",
    "    def __init__(self,value):\n",
    "        self.value=value\n",
    "        self.next=None\n",
    "        self.prev=None\n",
    "    def __str__(self):\n",
    "        return str(self.value)\n",
    "        \n",
    "class CircularDoublyLinkedList:\n",
    "    def __init__(self):\n",
    "        self.head=None\n",
    "        self.tail=None\n",
    "        self.length=0\n",
    "    def __str__(self):\n",
    "        current_node=self.head\n",
    "        result=' '\n",
    "        while current_node:\n",
    "             result+=str(current_node.value)\n",
    "             current_node=current_node.next\n",
    "             if current_node==self.head:\n",
    "                 break\n",
    "             result+= ' <-> '\n",
    "        return result\n",
    "\n",
    "    def append(self, value):\n",
    "        new_node=Node(value)\n",
    "        if self.length==0:\n",
    "            self.head=new_node\n",
    "            self.tail=new_node\n",
    "            new_node.next=new_node\n",
    "            new_node.prev=new_node\n",
    "        else:\n",
    "            self.tail.next=new_node\n",
    "            self.head.prev=new_node\n",
    "            new_node.next=self.head\n",
    "            new_node.prev=self.tail\n",
    "            self.tail=new_node\n",
    "        self.length+=1\n",
    "    def prepend(self,value):\n",
    "        new_node=Node(value)\n",
    "        if self.length==0:\n",
    "            self.head=new_node\n",
    "            self.tail=new_node\n",
    "            new_node.next=new_node\n",
    "            new_node.prev=new_node\n",
    "        else:\n",
    "            new_node.next=self.head\n",
    "            self.head.prev=new_node\n",
    "            self.head=new_node\n",
    "            self.tail.next=self.head\n",
    "            self.head.prev=self.tail\n",
    "    \n",
    "        self.length+=1\n",
    "\n",
    "    def traverse(self):\n",
    "        current_node=self.head\n",
    "        while current_node:\n",
    "            print(current_node.value)\n",
    "            current_node=current_node.next\n",
    "            if current_node == self.head:\n",
    "                break\n",
    "        self.length+=1\n",
    "\n",
    "\n",
    "    def reverse_traverse(self):\n",
    "        current_node= self.tail\n",
    "        while current_node is not None:\n",
    "            print(current_node.value)\n",
    "            current_node=current_node.prev\n",
    "            if current_node==self.tail:\n",
    "                break\n",
    "\n",
    "    def search(self,target):\n",
    "        current_node=self.head\n",
    "        while current_node:\n",
    "            if current_node.value==target:\n",
    "                return True \n",
    "            current_node=current_node.next\n",
    "            if current_node==self.head:\n",
    "                break\n",
    "        return False \n",
    "\n",
    "new_cdll = CircularDoublyLinkedList()\n",
    "new_cdll.append(10)\n",
    "new_cdll.append(20)\n",
    "new_cdll.append(40)\n",
    "new_cdll.append(50)\n",
    "print(new_cdll)\n",
    "new_cdll.prepend(100)\n",
    "print(new_cdll)\n",
    "#new_cdll.traverse()\n",
    "new_cdll.reverse_traverse()\n",
    "new_cdll.search(200)"
   ]
  },
  {
   "cell_type": "markdown",
   "id": "693bfd6d-f825-4807-8995-654d841ddd74",
   "metadata": {},
   "source": [
    "### Get method - CDLL"
   ]
  },
  {
   "cell_type": "code",
   "execution_count": null,
   "id": "eb478d63-449a-4f3d-96f7-62577f2a3204",
   "metadata": {},
   "outputs": [],
   "source": [
    "def get(self,index):\n",
    "    current_node=None\n",
    "    if index < self.length//2:\n",
    "        current_node=self.head\n",
    "        for i in range (index):\n",
    "            current_node=current_node.next\n",
    "    else:\n",
    "        current_node=self.tail\n",
    "        for i in range(self.length-1,index,-1):\n",
    "            current_node=current_node.prev\n",
    "    return current_node"
   ]
  },
  {
   "cell_type": "code",
   "execution_count": 39,
   "id": "e6bd2057-01f8-4d79-824a-6c074611ff30",
   "metadata": {},
   "outputs": [
    {
     "name": "stdout",
     "output_type": "stream",
     "text": [
      " 10 <-> 20 <-> 40 <-> 50\n",
      " 100 <-> 10 <-> 20 <-> 40 <-> 50\n",
      "None\n"
     ]
    }
   ],
   "source": [
    "class Node:\n",
    "    def __init__(self,value):\n",
    "        self.value=value\n",
    "        self.next=None\n",
    "        self.prev=None\n",
    "    def __str__(self):\n",
    "        return str(self.value)\n",
    "        \n",
    "class CircularDoublyLinkedList:\n",
    "    def __init__(self):\n",
    "        self.head=None\n",
    "        self.tail=None\n",
    "        self.length=0\n",
    "    def __str__(self):\n",
    "        current_node=self.head\n",
    "        result=' '\n",
    "        while current_node:\n",
    "             result+=str(current_node.value)\n",
    "             current_node=current_node.next\n",
    "             if current_node==self.head:\n",
    "                 break\n",
    "             result+= ' <-> '\n",
    "        return result\n",
    "\n",
    "    def append(self, value):\n",
    "        new_node=Node(value)\n",
    "        if self.length==0:\n",
    "            self.head=new_node\n",
    "            self.tail=new_node\n",
    "            new_node.next=new_node\n",
    "            new_node.prev=new_node\n",
    "        else:\n",
    "            self.tail.next=new_node\n",
    "            self.head.prev=new_node\n",
    "            new_node.next=self.head\n",
    "            new_node.prev=self.tail\n",
    "            self.tail=new_node\n",
    "        self.length+=1\n",
    "    def prepend(self,value):\n",
    "        new_node=Node(value)\n",
    "        if self.length==0:\n",
    "            self.head=new_node\n",
    "            self.tail=new_node\n",
    "            new_node.next=new_node\n",
    "            new_node.prev=new_node\n",
    "        else:\n",
    "            new_node.next=self.head\n",
    "            self.head.prev=new_node\n",
    "            self.head=new_node\n",
    "            self.tail.next=self.head\n",
    "            self.head.prev=self.tail\n",
    "    \n",
    "        self.length+=1\n",
    "\n",
    "    def traverse(self):\n",
    "        current_node=self.head\n",
    "        while current_node:\n",
    "            print(current_node.value)\n",
    "            current_node=current_node.next\n",
    "            if current_node == self.head:\n",
    "                break\n",
    "        self.length+=1\n",
    "\n",
    "\n",
    "    def reverse_traverse(self):\n",
    "        current_node= self.tail\n",
    "        while current_node is not None:\n",
    "            print(current_node.value)\n",
    "            current_node=current_node.prev\n",
    "            if current_node==self.tail:\n",
    "                break\n",
    "\n",
    "    def search(self,target):\n",
    "        current_node=self.head\n",
    "        while current_node:\n",
    "            if current_node.value==target:\n",
    "                return True \n",
    "            current_node=current_node.next\n",
    "            if current_node==self.head:\n",
    "                break\n",
    "        return False\n",
    "\n",
    "    def get(self,index):\n",
    "        if index<0 or index>=self.length:\n",
    "            return None\n",
    "        #if index==-1:\n",
    "            #return prepend.value()\n",
    "        current_node=None\n",
    "        if index < self.length//2:\n",
    "            current_node=self.head\n",
    "            for i in range (index):\n",
    "                current_node=current_node.next\n",
    "        else:\n",
    "            current_node=self.tail\n",
    "            for i in range(self.length-1,index,-1):\n",
    "                current_node=current_node.prev\n",
    "        return current_node\n",
    "\n",
    "new_cdll = CircularDoublyLinkedList()\n",
    "new_cdll.append(10)\n",
    "new_cdll.append(20)\n",
    "new_cdll.append(40)\n",
    "new_cdll.append(50)\n",
    "print(new_cdll)\n",
    "new_cdll.prepend(100)\n",
    "print(new_cdll)\n",
    "#new_cdll.traverse()\n",
    "#new_cdll.reverse_traverse()\n",
    "#new_cdll.search(200)\n",
    "print(new_cdll.get(-1))"
   ]
  },
  {
   "cell_type": "markdown",
   "id": "45415a86-25ac-40f5-91ff-020296256dfb",
   "metadata": {},
   "source": [
    "#### Set method "
   ]
  },
  {
   "cell_type": "code",
   "execution_count": 40,
   "id": "4883fefb-aea4-42a1-aecd-ed963ed1e226",
   "metadata": {},
   "outputs": [],
   "source": [
    "def set_value(self,index,value):\n",
    "    temp=self.get(index)\n",
    "    if temp:\n",
    "        temp.value=value\n",
    "        return True\n",
    "    return False"
   ]
  },
  {
   "cell_type": "markdown",
   "id": "d2d410cf-0b26-4045-8ccc-5b5834a3e039",
   "metadata": {},
   "source": [
    "##### Insert method - CDLL"
   ]
  },
  {
   "cell_type": "code",
   "execution_count": 43,
   "id": "4bb3ebb6-f130-450d-8192-fd2614c79383",
   "metadata": {},
   "outputs": [],
   "source": [
    "def insert(self,index,value):\n",
    "    if index < 0 or index> self.length:\n",
    "        print(\"Error: Index out of bounds\")\n",
    "        return\n",
    "    if index==0:\n",
    "        self.prepend(value)\n",
    "        return \n",
    "    if index==self.length:\n",
    "        self.append(value)\n",
    "        return\n",
    "    new_node=Node(value)\n",
    "    temp_node=self.get(index-1)\n",
    "    new_node.next=temp_node.next\n",
    "    new_node.prev=temp_node\n",
    "    temp_node.next.prev=new_node\n",
    "    temp_node.next=new_node\n",
    "    self.length+=1"
   ]
  },
  {
   "cell_type": "markdown",
   "id": "ed8541e0-d706-45ed-9deb-b4243743a874",
   "metadata": {},
   "source": [
    "### Remove method "
   ]
  },
  {
   "cell_type": "code",
   "execution_count": 44,
   "id": "718b73f2-6557-4492-b88f-b692705abe9f",
   "metadata": {},
   "outputs": [],
   "source": [
    "def remove(self,index):\n",
    "    if index==0:\n",
    "        return self.pop_first()\n",
    "    if index==self.length-1:\n",
    "        return self.pop()\n",
    "    popped_node=self.get(index)\n",
    "    popped_node.prev.next=popped_node.next\n",
    "    popped_node.next.prev=popped_node.prev\n",
    "    popped_node.next=None\n",
    "    popped_node.prev=None\n",
    "    self.length-=1\n",
    "    return popped_node\n",
    "    "
   ]
  },
  {
   "cell_type": "code",
   "execution_count": 52,
   "id": "c035554f-6d7f-46e7-a9ee-a697c6d0b3a8",
   "metadata": {},
   "outputs": [
    {
     "name": "stdout",
     "output_type": "stream",
     "text": [
      " 10 <-> 20 <-> 40 <-> 50\n",
      " 100 <-> 10 <-> 20 <-> 40 <-> 50\n",
      "None\n",
      "40\n",
      " 100 <-> 10 <-> 20 <-> 50\n"
     ]
    }
   ],
   "source": [
    "class Node:\n",
    "    def __init__(self,value):\n",
    "        self.value=value\n",
    "        self.next=None\n",
    "        self.prev=None\n",
    "    def __str__(self):\n",
    "        return str(self.value)\n",
    "        \n",
    "class CircularDoublyLinkedList:\n",
    "    def __init__(self):\n",
    "        self.head=None\n",
    "        self.tail=None\n",
    "        self.length=0\n",
    "    def __str__(self):\n",
    "        current_node=self.head\n",
    "        result=' '\n",
    "        while current_node:\n",
    "             result+=str(current_node.value)\n",
    "             current_node=current_node.next\n",
    "             if current_node==self.head:\n",
    "                 break\n",
    "             result+= ' <-> '\n",
    "        return result\n",
    "\n",
    "    def append(self, value):\n",
    "        new_node=Node(value)\n",
    "        if self.length==0:\n",
    "            self.head=new_node\n",
    "            self.tail=new_node\n",
    "            new_node.next=new_node\n",
    "            new_node.prev=new_node\n",
    "        else:\n",
    "            self.tail.next=new_node\n",
    "            self.head.prev=new_node\n",
    "            new_node.next=self.head\n",
    "            new_node.prev=self.tail\n",
    "            self.tail=new_node\n",
    "        self.length+=1\n",
    "    def prepend(self,value):\n",
    "        new_node=Node(value)\n",
    "        if self.length==0:\n",
    "            self.head=new_node\n",
    "            self.tail=new_node\n",
    "            new_node.next=new_node\n",
    "            new_node.prev=new_node\n",
    "        else:\n",
    "            new_node.next=self.head\n",
    "            self.head.prev=new_node\n",
    "            self.head=new_node\n",
    "            self.tail.next=self.head\n",
    "            self.head.prev=self.tail\n",
    "    \n",
    "        self.length+=1\n",
    "\n",
    "    def traverse(self):\n",
    "        current_node=self.head\n",
    "        while current_node:\n",
    "            print(current_node.value)\n",
    "            current_node=current_node.next\n",
    "            if current_node == self.head:\n",
    "                break\n",
    "        self.length+=1\n",
    "\n",
    "\n",
    "    def reverse_traverse(self):\n",
    "        current_node= self.tail\n",
    "        while current_node is not None:\n",
    "            print(current_node.value)\n",
    "            current_node=current_node.prev\n",
    "            if current_node==self.tail:\n",
    "                break\n",
    "\n",
    "    def search(self,target):\n",
    "        current_node=self.head\n",
    "        while current_node:\n",
    "            if current_node.value==target:\n",
    "                return True \n",
    "            current_node=current_node.next\n",
    "            if current_node==self.head:\n",
    "                break\n",
    "        return False\n",
    "\n",
    "    def get(self,index):\n",
    "        if index<0 or index>=self.length:\n",
    "            return None\n",
    "        #if index==-1:\n",
    "            #return prepend.value()\n",
    "        current_node=None\n",
    "        if index < self.length//2:\n",
    "            current_node=self.head\n",
    "            for i in range (index):\n",
    "                current_node=current_node.next\n",
    "        else:\n",
    "            current_node=self.tail\n",
    "            for i in range(self.length-1,index,-1):\n",
    "                current_node=current_node.prev\n",
    "        return current_node\n",
    "\n",
    "\n",
    "    def remove(self,index):\n",
    "        if index<0 or index >= self.length:\n",
    "            return None \n",
    "        if index==0:\n",
    "            return self.pop_first()\n",
    "        if index==self.length-1:\n",
    "            return self.pop()\n",
    "        popped_node=self.get(index)\n",
    "        popped_node.prev.next=popped_node.next\n",
    "        popped_node.next.prev=popped_node.prev\n",
    "        popped_node.next=None\n",
    "        popped_node.prev=None\n",
    "        self.length-=1\n",
    "        return popped_node\n",
    "        \n",
    "new_cdll = CircularDoublyLinkedList()\n",
    "new_cdll.append(10)\n",
    "new_cdll.append(20)\n",
    "new_cdll.append(40)\n",
    "new_cdll.append(50)\n",
    "print(new_cdll)\n",
    "new_cdll.prepend(100)\n",
    "print(new_cdll)\n",
    "#new_cdll.traverse()\n",
    "#new_cdll.reverse_traverse()\n",
    "#new_cdll.search(200)\n",
    "print(new_cdll.get(-1))\n",
    "print(new_cdll.remove(3))\n",
    "print(new_cdll)"
   ]
  },
  {
   "cell_type": "markdown",
   "id": "851b7b9c-7a8b-4ce6-8170-f10e20e2ebbd",
   "metadata": {},
   "source": [
    "### Delete method "
   ]
  },
  {
   "cell_type": "code",
   "execution_count": null,
   "id": "40924ba3-304b-402b-86f2-6d254035f4da",
   "metadata": {},
   "outputs": [],
   "source": [
    "def delete_all(self):\n",
    "    self.head=None\n",
    "    self.tail=None\n",
    "    self.length=0"
   ]
  },
  {
   "cell_type": "code",
   "execution_count": 55,
   "id": "33374b97-6fca-4bc1-a1b6-ec5b78fb277f",
   "metadata": {},
   "outputs": [
    {
     "name": "stdout",
     "output_type": "stream",
     "text": [
      " 100 <-> 10 <-> 20 <-> 40 <-> 50\n",
      "40\n",
      " 100 <-> 10 <-> 20 <-> 50\n",
      "None\n"
     ]
    }
   ],
   "source": [
    "class Node:\n",
    "    def __init__(self,value):\n",
    "        self.value=value\n",
    "        self.next=None\n",
    "        self.prev=None\n",
    "    def __str__(self):\n",
    "        return str(self.value)\n",
    "        \n",
    "class CircularDoublyLinkedList:\n",
    "    def __init__(self):\n",
    "        self.head=None\n",
    "        self.tail=None\n",
    "        self.length=0\n",
    "    def __str__(self):\n",
    "        current_node=self.head\n",
    "        result=' '\n",
    "        while current_node:\n",
    "             result+=str(current_node.value)\n",
    "             current_node=current_node.next\n",
    "             if current_node==self.head:\n",
    "                 break\n",
    "             result+= ' <-> '\n",
    "        return result\n",
    "\n",
    "    def append(self, value):\n",
    "        new_node=Node(value)\n",
    "        if self.length==0:\n",
    "            self.head=new_node\n",
    "            self.tail=new_node\n",
    "            new_node.next=new_node\n",
    "            new_node.prev=new_node\n",
    "        else:\n",
    "            self.tail.next=new_node\n",
    "            self.head.prev=new_node\n",
    "            new_node.next=self.head\n",
    "            new_node.prev=self.tail\n",
    "            self.tail=new_node\n",
    "        self.length+=1\n",
    "    def prepend(self,value):\n",
    "        new_node=Node(value)\n",
    "        if self.length==0:\n",
    "            self.head=new_node\n",
    "            self.tail=new_node\n",
    "            new_node.next=new_node\n",
    "            new_node.prev=new_node\n",
    "        else:\n",
    "            new_node.next=self.head\n",
    "            self.head.prev=new_node\n",
    "            self.head=new_node\n",
    "            self.tail.next=self.head\n",
    "            self.head.prev=self.tail\n",
    "    \n",
    "        self.length+=1\n",
    "\n",
    "    def traverse(self):\n",
    "        current_node=self.head\n",
    "        while current_node:\n",
    "            print(current_node.value)\n",
    "            current_node=current_node.next\n",
    "            if current_node == self.head:\n",
    "                break\n",
    "        self.length+=1\n",
    "\n",
    "\n",
    "    def reverse_traverse(self):\n",
    "        current_node= self.tail\n",
    "        while current_node is not None:\n",
    "            print(current_node.value)\n",
    "            current_node=current_node.prev\n",
    "            if current_node==self.tail:\n",
    "                break\n",
    "\n",
    "    def search(self,target):\n",
    "        current_node=self.head\n",
    "        while current_node:\n",
    "            if current_node.value==target:\n",
    "                return True \n",
    "            current_node=current_node.next\n",
    "            if current_node==self.head:\n",
    "                break\n",
    "        return False\n",
    "\n",
    "    def get(self,index):\n",
    "        if index<0 or index>=self.length:\n",
    "            return None\n",
    "        #if index==-1:\n",
    "            #return prepend.value()\n",
    "        current_node=None\n",
    "        if index < self.length//2:\n",
    "            current_node=self.head\n",
    "            for i in range (index):\n",
    "                current_node=current_node.next\n",
    "        else:\n",
    "            current_node=self.tail\n",
    "            for i in range(self.length-1,index,-1):\n",
    "                current_node=current_node.prev\n",
    "        return current_node\n",
    "\n",
    "\n",
    "    def remove(self,index):\n",
    "        if index<0 or index >= self.length:\n",
    "            return None \n",
    "        if index==0:\n",
    "            return self.pop_first()\n",
    "        if index==self.length-1:\n",
    "            return self.pop()\n",
    "        popped_node=self.get(index)\n",
    "        popped_node.prev.next=popped_node.next\n",
    "        popped_node.next.prev=popped_node.prev\n",
    "        popped_node.next=None\n",
    "        popped_node.prev=None\n",
    "        self.length-=1\n",
    "        return popped_node\n",
    "\n",
    "    def delete_all(self):\n",
    "        self.head=None\n",
    "        self.tail=None\n",
    "        self.length=0\n",
    "        \n",
    "new_cdll = CircularDoublyLinkedList()\n",
    "new_cdll.append(10)\n",
    "new_cdll.append(20)\n",
    "new_cdll.append(40)\n",
    "new_cdll.append(50)\n",
    "#print(new_cdll)\n",
    "new_cdll.prepend(100)\n",
    "print(new_cdll)\n",
    "#new_cdll.traverse()\n",
    "#new_cdll.reverse_traverse()\n",
    "#new_cdll.search(200)\n",
    "#print(new_cdll.get(-1))\n",
    "print(new_cdll.remove(3))\n",
    "print(new_cdll)\n",
    "print(new_cdll.delete_all())"
   ]
  },
  {
   "cell_type": "code",
   "execution_count": null,
   "id": "7a5b512f-19dc-4e52-9dc7-c340e94a56c1",
   "metadata": {},
   "outputs": [],
   "source": []
  },
  {
   "cell_type": "code",
   "execution_count": null,
   "id": "0f6f7f2c-02ad-4e79-afdd-81ac4bb4a212",
   "metadata": {},
   "outputs": [],
   "source": []
  },
  {
   "cell_type": "code",
   "execution_count": null,
   "id": "8cc174db-cefa-47ec-880b-7e48e30c0ff3",
   "metadata": {},
   "outputs": [],
   "source": []
  },
  {
   "cell_type": "code",
   "execution_count": null,
   "id": "2cc9a978-f945-46cb-8603-c28591a1d147",
   "metadata": {},
   "outputs": [],
   "source": []
  },
  {
   "cell_type": "code",
   "execution_count": null,
   "id": "07f1e16c-39ee-4d71-b119-2908791d72cd",
   "metadata": {},
   "outputs": [],
   "source": []
  },
  {
   "cell_type": "code",
   "execution_count": null,
   "id": "b7c3419d-992d-4b44-a998-0d1f3500c87d",
   "metadata": {},
   "outputs": [],
   "source": []
  },
  {
   "cell_type": "code",
   "execution_count": null,
   "id": "65a7fb94-40b6-4350-a8f1-e5278d16f058",
   "metadata": {},
   "outputs": [],
   "source": []
  },
  {
   "cell_type": "code",
   "execution_count": null,
   "id": "828cab75-0ca4-4b8a-bd33-3ad247b84233",
   "metadata": {},
   "outputs": [],
   "source": []
  },
  {
   "cell_type": "code",
   "execution_count": null,
   "id": "91818ce9-47f7-4581-9b4a-268ddccc68b1",
   "metadata": {},
   "outputs": [],
   "source": []
  },
  {
   "cell_type": "code",
   "execution_count": null,
   "id": "bc1e0481-395b-4d37-a444-8465ca8d9a20",
   "metadata": {},
   "outputs": [],
   "source": []
  },
  {
   "cell_type": "code",
   "execution_count": null,
   "id": "cff2a853-820a-4f15-af73-aeaf8b08ea14",
   "metadata": {},
   "outputs": [],
   "source": []
  },
  {
   "cell_type": "code",
   "execution_count": null,
   "id": "578827b5-463e-4e59-ab21-52ebe8817c27",
   "metadata": {},
   "outputs": [],
   "source": []
  }
 ],
 "metadata": {
  "kernelspec": {
   "display_name": "Python 3 (ipykernel)",
   "language": "python",
   "name": "python3"
  },
  "language_info": {
   "codemirror_mode": {
    "name": "ipython",
    "version": 3
   },
   "file_extension": ".py",
   "mimetype": "text/x-python",
   "name": "python",
   "nbconvert_exporter": "python",
   "pygments_lexer": "ipython3",
   "version": "3.12.4"
  }
 },
 "nbformat": 4,
 "nbformat_minor": 5
}
